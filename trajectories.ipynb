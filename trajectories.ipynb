{
  "cells": [
    {
      "cell_type": "markdown",
      "metadata": {
        "id": "view-in-github",
        "colab_type": "text"
      },
      "source": [
        "<a href=\"https://colab.research.google.com/github/manumeehl/trajectories/blob/main/trajectories.ipynb\" target=\"_parent\"><img src=\"https://colab.research.google.com/assets/colab-badge.svg\" alt=\"Open In Colab\"/></a>"
      ]
    },
    {
      "cell_type": "code",
      "source": [
        "!apt install tesseract-ocr\n",
        "!pip install opencv-python-headless pytesseract pytube"
      ],
      "metadata": {
        "id": "H80IWIdCRriX"
      },
      "execution_count": null,
      "outputs": []
    },
    {
      "cell_type": "code",
      "source": [
        "from google.colab.patches import cv2_imshow as show\n",
        "from pytube import YouTube\n",
        "import pandas as pd\n",
        "import pytesseract\n",
        "import math\n",
        "import cv2\n",
        "import re"
      ],
      "metadata": {
        "id": "27aMJ2fQRsVu"
      },
      "execution_count": null,
      "outputs": []
    },
    {
      "cell_type": "code",
      "source": [
        "def get_video(url, path):\n",
        "  vid = YouTube(url)\n",
        "  print(f\"Downloading Video '{vid.streams[0].title}'\")\n",
        "  vid.streams.filter(progressive=True, file_extension='mp4').order_by('resolution').desc().first().download(output_path=path, filename='launch.mp4')\n",
        "  print('Download complete')"
      ],
      "metadata": {
        "id": "nwUp0dTGSX1P"
      },
      "execution_count": null,
      "outputs": []
    },
    {
      "cell_type": "code",
      "source": [
        "def crop_roi(frame, roi):\n",
        "  ''' Extract from a list of predefined regions of interest (ROI) '''\n",
        "  height, width, _ = frame.shape\n",
        "\n",
        "  if roi == 'Clock':\n",
        "    return frame[height-110:height-20,int(width/2-200):int(width/2+200)]\n",
        "  if roi == 'Stage 1':\n",
        "    return frame[height-80:height-40,50:300]\n",
        "  elif roi == 'Stage 2':\n",
        "    return frame[height-120:height-20,width-300:width]"
      ],
      "metadata": {
        "id": "VGLLF465Rt5W"
      },
      "execution_count": 484,
      "outputs": []
    },
    {
      "cell_type": "code",
      "source": [
        "def clock_to_secs(clockstring):\n",
        "  ''' Convert a mission clock string to an integer second value '''\n",
        "  tense = -1 if clockstring[:2] == 't-' else 1\n",
        "  # Remove the T+- sign\n",
        "  clockstring = clockstring [2:]\n",
        "  # Get the seconds\n",
        "  units = clockstring.split(':')\n",
        "  hours = int(units[0])\n",
        "  minutes = int(units[1])\n",
        "  seconds = int(units[2])\n",
        "\n",
        "  return hours * 3600 + minutes * 60 + seconds\n",
        "\n",
        "def frame_to_elapsed(framepos):\n",
        "  # Calculate the exact time since liftoff based on the current frame\n",
        "  return  round((framepos - liftoff_frame) / fps, 2)"
      ],
      "metadata": {
        "id": "1maxk5cRdZUi"
      },
      "execution_count": 487,
      "outputs": []
    },
    {
      "cell_type": "code",
      "source": [
        "def get_trajectory_from_string(string):\n",
        "  ''' Extract altitude and velocity from a given string '''\n",
        "  string = string.lower()\n",
        "\n",
        "  # Apply a blacklist\n",
        "  blacklist = ['stage 1', 'stage 2', 'falcon 9', 'starlink']\n",
        "  for w in blacklist:\n",
        "    string = string.replace(w, '')\n",
        "\n",
        "  # Find all numbers and floats in the string\n",
        "  numbers = re.findall(r'\\d+(?:\\.\\d+)?', string)\n",
        "  numbers = list(set([float(x) for x in numbers]))\n",
        "  if numbers:\n",
        "    return {\n",
        "        'Altitude': min(numbers),\n",
        "        'Velocity': max(numbers)\n",
        "    }\n",
        "  else:\n",
        "    return {}\n",
        "\n",
        "def get_clock_from_string(string):\n",
        "  ''' Extract mission clock, altitude and velocity from a given string '''\n",
        "  string = string.lower()\n",
        "\n",
        "  # Find the mission clock (T+00:00:00)\n",
        "  mission_clock = re.findall(r't[+-]\\d{2}:\\d{2}:\\d{2}', string)\n",
        "\n",
        "  if mission_clock:\n",
        "    return {'Clock': mission_clock[0]}\n",
        "  else:\n",
        "    return {}"
      ],
      "metadata": {
        "id": "ge8m4Hp9RurH"
      },
      "execution_count": 489,
      "outputs": []
    },
    {
      "cell_type": "code",
      "source": [
        "def extract_data(frame):\n",
        "  # Extract telemetry of Stage 1\n",
        "  crop = crop_roi(frame, 'Stage 1')\n",
        "  gray = cv2.cvtColor(crop, cv2.COLOR_BGR2GRAY)\n",
        "  inverted = cv2.bitwise_not(gray)\n",
        "  trajectory = get_trajectory_from_string(\n",
        "      pytesseract.image_to_string(inverted, config='--psm 11'))\n",
        "\n",
        "  # Extract telemetry of the Mission Clock\n",
        "  crop = crop_roi(frame, 'Clock')\n",
        "  gray = cv2.cvtColor(crop, cv2.COLOR_BGR2GRAY)\n",
        "  inverted = cv2.bitwise_not(gray)\n",
        "  clock = get_clock_from_string(\n",
        "      pytesseract.image_to_string(inverted))\n",
        "\n",
        "  return {**clock, **trajectory}\n",
        "\n",
        "def test():\n",
        "  framepos = 14090\n",
        "\n",
        "  for i in range(10):\n",
        "    vid.set(cv2.CAP_PROP_POS_FRAMES, int(framepos))\n",
        "    ret, frame = vid.read()\n",
        "    data = extract_data(frame)\n",
        "\n",
        "    print(data)\n",
        "\n",
        "    framepos +=30"
      ],
      "metadata": {
        "id": "qntY3Y59Cq60"
      },
      "execution_count": 493,
      "outputs": []
    },
    {
      "cell_type": "code",
      "source": [
        "def await_liftoff():\n",
        "  ''' Identify the frame at which liftoff occurs '''\n",
        "  framepos = 0\n",
        "  interval = 300\n",
        "  clock = ''\n",
        "  # Await first mission clock appearance\n",
        "  while vid.isOpened():\n",
        "    vid.set(cv2.CAP_PROP_POS_FRAMES, int(framepos))\n",
        "    framepos += interval\n",
        "\n",
        "    ret, frame = vid.read()\n",
        "    data = extract_data(frame)\n",
        "\n",
        "    if data['Clock']:\n",
        "      clock = data['Clock']\n",
        "      break\n",
        "\n",
        "  # Now wait until the next full second\n",
        "  interval = 1\n",
        "  while vid.isOpened():\n",
        "    vid.set(cv2.CAP_PROP_POS_FRAMES, int(framepos))\n",
        "    framepos += interval\n",
        "\n",
        "    ret, frame = vid.read()\n",
        "    data = extract_data(frame)\n",
        "\n",
        "    if data['Clock'] and data['Clock'] != clock:\n",
        "      framepos += int(data['Elapsed'] * fps)\n",
        "      return framepos\n"
      ],
      "metadata": {
        "id": "gMv3SS_RZbvE"
      },
      "execution_count": 490,
      "outputs": []
    },
    {
      "cell_type": "code",
      "source": [
        "def process_launch(vid, liftoff_frame):\n",
        "  framepos = liftoff_frame\n",
        "  trajectory = pd.DataFrame(columns = ['Clock', 'Elapsed', 'Altitude', 'Velocity'])\n",
        "\n",
        "  while vid.isOpened():\n",
        "    vid.set(cv2.CAP_PROP_POS_FRAMES, int(framepos))\n",
        "    ret, frame = vid.read()\n",
        "    data = extract_data(frame)\n",
        "\n",
        "    if 'Clock' in data.keys() and 'Velocity' in data.keys() and 'Altitude' in data.keys():\n",
        "      # Save data\n",
        "      data['Elapsed'] = round((framepos - liftoff_frame) / fps, 1)\n",
        "      trajectory.loc[len(trajectory)] = data\n",
        "      # Skip to next second\n",
        "      framepos += int(fps - ((framepos - liftoff_frame) % fps)) + 3\n",
        "    else:\n",
        "      framepos += 3\n",
        "    if framepos > liftoff_frame + 1000:\n",
        "      break\n",
        "\n",
        "  return trajectory\n"
      ],
      "metadata": {
        "id": "qmFZnT-LCDWd"
      },
      "execution_count": 521,
      "outputs": []
    },
    {
      "cell_type": "code",
      "source": [
        "''' Data post-processing '''\n",
        "def smooth_curve(curve):\n",
        "  ''' Correct decimal errors of the OCR algorithm '''\n",
        "  for i in range(len(curve[1:])):\n",
        "    if curve[i+1] / curve[i] > 2:\n",
        "      curve[i+1] /= 10\n",
        "    elif curve[i+1] / curve[i] < 0.5:\n",
        "      curve[i+1] *= 10\n",
        "  return curve"
      ],
      "metadata": {
        "id": "jnu-ca2R7cFB"
      },
      "execution_count": 519,
      "outputs": []
    },
    {
      "cell_type": "code",
      "source": [
        "url = 'https://www.youtube.com/watch?v=agYuEAkEljw'\n",
        "get_video(url, 'launches')"
      ],
      "metadata": {
        "id": "ytb_Z3FqULem",
        "outputId": "37acbf75-45e6-4ac2-a319-d28c1047a414",
        "colab": {
          "base_uri": "https://localhost:8080/"
        }
      },
      "execution_count": null,
      "outputs": [
        {
          "output_type": "stream",
          "name": "stdout",
          "text": [
            "Downloading Video 'Starlink Mission'\n",
            "Download complete\n"
          ]
        }
      ]
    },
    {
      "cell_type": "code",
      "source": [
        "vidpath = 'launches/launch.mp4'\n",
        "vid = cv2.VideoCapture(vidpath)\n",
        "fps = vid.get(cv2.CAP_PROP_FPS)\n",
        "\n",
        "print('Awaiting liftoff')\n",
        "liftoff_frame = await_liftoff()\n",
        "print('Liftoff registered, now monitoring launch')\n",
        "trajectory = process_launch(vid, liftoff_frame)\n",
        "trajectory.to_csv('trajectory.csv')"
      ],
      "metadata": {
        "id": "pH5mT-8xT6G_",
        "colab": {
          "base_uri": "https://localhost:8080/",
          "height": 403
        },
        "outputId": "5cee9f46-dce2-47ec-940e-fdce67f68f3a"
      },
      "execution_count": 522,
      "outputs": [
        {
          "output_type": "stream",
          "name": "stdout",
          "text": [
            "Awaiting liftoff\n"
          ]
        },
        {
          "output_type": "error",
          "ename": "KeyError",
          "evalue": "ignored",
          "traceback": [
            "\u001b[0;31m---------------------------------------------------------------------------\u001b[0m",
            "\u001b[0;31mKeyError\u001b[0m                                  Traceback (most recent call last)",
            "\u001b[0;32m<ipython-input-522-2730a2ffdb3b>\u001b[0m in \u001b[0;36m<cell line: 6>\u001b[0;34m()\u001b[0m\n\u001b[1;32m      4\u001b[0m \u001b[0;34m\u001b[0m\u001b[0m\n\u001b[1;32m      5\u001b[0m \u001b[0mprint\u001b[0m\u001b[0;34m(\u001b[0m\u001b[0;34m'Awaiting liftoff'\u001b[0m\u001b[0;34m)\u001b[0m\u001b[0;34m\u001b[0m\u001b[0;34m\u001b[0m\u001b[0m\n\u001b[0;32m----> 6\u001b[0;31m \u001b[0mliftoff_frame\u001b[0m \u001b[0;34m=\u001b[0m \u001b[0mawait_liftoff\u001b[0m\u001b[0;34m(\u001b[0m\u001b[0;34m)\u001b[0m\u001b[0;34m\u001b[0m\u001b[0;34m\u001b[0m\u001b[0m\n\u001b[0m\u001b[1;32m      7\u001b[0m \u001b[0mprint\u001b[0m\u001b[0;34m(\u001b[0m\u001b[0;34m'Liftoff registered, now monitoring launch'\u001b[0m\u001b[0;34m)\u001b[0m\u001b[0;34m\u001b[0m\u001b[0;34m\u001b[0m\u001b[0m\n\u001b[1;32m      8\u001b[0m \u001b[0mtrajectory\u001b[0m \u001b[0;34m=\u001b[0m \u001b[0mprocess_launch\u001b[0m\u001b[0;34m(\u001b[0m\u001b[0mvid\u001b[0m\u001b[0;34m,\u001b[0m \u001b[0mliftoff_frame\u001b[0m\u001b[0;34m)\u001b[0m\u001b[0;34m\u001b[0m\u001b[0;34m\u001b[0m\u001b[0m\n",
            "\u001b[0;32m<ipython-input-490-01aa7d02bdcf>\u001b[0m in \u001b[0;36mawait_liftoff\u001b[0;34m()\u001b[0m\n\u001b[1;32m     12\u001b[0m     \u001b[0mdata\u001b[0m \u001b[0;34m=\u001b[0m \u001b[0mextract_data\u001b[0m\u001b[0;34m(\u001b[0m\u001b[0mframe\u001b[0m\u001b[0;34m)\u001b[0m\u001b[0;34m\u001b[0m\u001b[0;34m\u001b[0m\u001b[0m\n\u001b[1;32m     13\u001b[0m \u001b[0;34m\u001b[0m\u001b[0m\n\u001b[0;32m---> 14\u001b[0;31m     \u001b[0;32mif\u001b[0m \u001b[0mdata\u001b[0m\u001b[0;34m[\u001b[0m\u001b[0;34m'Clock'\u001b[0m\u001b[0;34m]\u001b[0m\u001b[0;34m:\u001b[0m\u001b[0;34m\u001b[0m\u001b[0;34m\u001b[0m\u001b[0m\n\u001b[0m\u001b[1;32m     15\u001b[0m       \u001b[0mclock\u001b[0m \u001b[0;34m=\u001b[0m \u001b[0mdata\u001b[0m\u001b[0;34m[\u001b[0m\u001b[0;34m'Clock'\u001b[0m\u001b[0;34m]\u001b[0m\u001b[0;34m\u001b[0m\u001b[0;34m\u001b[0m\u001b[0m\n\u001b[1;32m     16\u001b[0m       \u001b[0;32mbreak\u001b[0m\u001b[0;34m\u001b[0m\u001b[0;34m\u001b[0m\u001b[0m\n",
            "\u001b[0;31mKeyError\u001b[0m: 'Clock'"
          ]
        }
      ]
    }
  ],
  "metadata": {
    "colab": {
      "name": "Markdown Guide",
      "provenance": [],
      "gpuType": "T4",
      "cell_execution_strategy": "setup",
      "include_colab_link": true
    },
    "kernelspec": {
      "display_name": "Python 3",
      "name": "python3"
    },
    "accelerator": "GPU"
  },
  "nbformat": 4,
  "nbformat_minor": 0
}