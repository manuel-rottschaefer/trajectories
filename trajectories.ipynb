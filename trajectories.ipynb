{
  "cells": [
    {
      "cell_type": "markdown",
      "metadata": {
        "id": "view-in-github",
        "colab_type": "text"
      },
      "source": [
        "<a href=\"https://colab.research.google.com/github/manumeehl/trajectories/blob/main/trajectories.ipynb\" target=\"_parent\"><img src=\"https://colab.research.google.com/assets/colab-badge.svg\" alt=\"Open In Colab\"/></a>"
      ]
    },
    {
      "cell_type": "code",
      "source": [
        "%%capture\n",
        "!apt install tesseract-ocr\n",
        "!pip install opencv-python-headless pytesseract pytube"
      ],
      "metadata": {
        "id": "H80IWIdCRriX"
      },
      "execution_count": null,
      "outputs": []
    },
    {
      "cell_type": "code",
      "source": [
        "from google.colab.patches import cv2_imshow as show\n",
        "import matplotlib.pyplot as plt\n",
        "from pytube import YouTube\n",
        "import pandas as pd\n",
        "import numpy as np\n",
        "import pytesseract\n",
        "import math\n",
        "import cv2\n",
        "import re"
      ],
      "metadata": {
        "id": "27aMJ2fQRsVu"
      },
      "execution_count": 20,
      "outputs": []
    },
    {
      "cell_type": "code",
      "source": [
        "''' Video Tools '''\n",
        "def get_video(url, path):\n",
        "  vid = YouTube(url)\n",
        "  print(f\"Downloading Video '{vid.streams[0].title}'\")\n",
        "  vid.streams.filter(progressive=True, file_extension='mp4').order_by('resolution').desc().first().download(output_path=path, filename='launch.mp4')\n",
        "  print('Download complete')"
      ],
      "metadata": {
        "id": "nwUp0dTGSX1P"
      },
      "execution_count": null,
      "outputs": []
    },
    {
      "cell_type": "code",
      "source": [
        "''' Image modification tools '''\n",
        "\n",
        "def crop_roi(frame, roi):\n",
        "  ''' Extract from a list of predefined regions of interest (ROI) '''\n",
        "  height, width, _ = frame.shape\n",
        "\n",
        "  if roi == 'Clock':\n",
        "    return frame[height-110:height-20,int(width/2-200):int(width/2+200)]\n",
        "  if roi == 'Stage 1':\n",
        "    return frame[height-80:height-40,50:300]\n",
        "  elif roi == 'Stage 2':\n",
        "    return frame[height-120:height-20,width-300:width]"
      ],
      "metadata": {
        "id": "VGLLF465Rt5W"
      },
      "execution_count": null,
      "outputs": []
    },
    {
      "cell_type": "code",
      "source": [
        "''' Conversion tools '''\n",
        "def clock_to_secs(clockstring):\n",
        "  ''' Convert a mission clock string to an integer second value '''\n",
        "  tense = -1 if clockstring[:2] == 't-' else 1\n",
        "  # Remove the T+- sign\n",
        "  clockstring = clockstring [2:]\n",
        "  # Get the seconds\n",
        "  units = clockstring.split(':')\n",
        "  hours = int(units[0])\n",
        "  minutes = int(units[1])\n",
        "  seconds = int(units[2])\n",
        "\n",
        "  return hours * 3600 + minutes * 60 + seconds\n",
        "\n",
        "def frame_to_elapsed(framepos):\n",
        "  # Calculate the exact time since liftoff based on the current frame\n",
        "  return  round((framepos - liftoff_frame) / fps, 2)"
      ],
      "metadata": {
        "id": "1maxk5cRdZUi"
      },
      "execution_count": null,
      "outputs": []
    },
    {
      "cell_type": "code",
      "source": [
        "def get_trajectory_from_string(string):\n",
        "  ''' Extract altitude and velocity from a given string '''\n",
        "  string = string.lower()\n",
        "  output = {}\n",
        "\n",
        "  # Apply a blacklist\n",
        "  blacklist = ['stage 1', 'stage 2', 'falcon 9', 'starlink']\n",
        "  for w in blacklist:\n",
        "    string = string.replace(w, '')\n",
        "\n",
        "  # Find all numbers and floats in the string\n",
        "  numbers = re.findall(r'\\d+(?:\\.\\d+)?', string)\n",
        "  numbers = list(set([float(x) for x in numbers]))\n",
        "  if numbers:  output =  {'Altitude': min(numbers), 'Velocity': max(numbers)}\n",
        "  return output\n",
        "\n",
        "def get_clock_from_string(string):\n",
        "  ''' Extract mission clock, altitude and velocity from a given string '''\n",
        "  string = string.lower()\n",
        "  output = {}\n",
        "\n",
        "  # Find the mission clock (T+00:00:00)\n",
        "  mission_clock = re.findall(r't[+-]\\d{2}:\\d{2}:\\d{2}', string)\n",
        "\n",
        "  if mission_clock: output =  {'Clock': mission_clock[0]}\n",
        "  return output"
      ],
      "metadata": {
        "id": "ge8m4Hp9RurH"
      },
      "execution_count": null,
      "outputs": []
    },
    {
      "cell_type": "code",
      "source": [
        "def extract_data(frame):\n",
        "  ''' Pre-process frames and extract the data '''\n",
        "  # Extract telemetry of Stage 1\n",
        "  crop = crop_roi(frame, 'Stage 1')\n",
        "  gray = cv2.cvtColor(crop, cv2.COLOR_BGR2GRAY)\n",
        "  inverted = cv2.bitwise_not(gray)\n",
        "  trajectory = get_trajectory_from_string(\n",
        "      pytesseract.image_to_string(inverted, config='--psm 11'))\n",
        "\n",
        "  # Extract telemetry of the Mission Clock\n",
        "  crop = crop_roi(frame, 'Clock')\n",
        "  gray = cv2.cvtColor(crop, cv2.COLOR_BGR2GRAY)\n",
        "  inverted = cv2.bitwise_not(gray)\n",
        "  clock = get_clock_from_string(\n",
        "      pytesseract.image_to_string(inverted))\n",
        "\n",
        "  return {**clock, **trajectory}"
      ],
      "metadata": {
        "id": "qntY3Y59Cq60"
      },
      "execution_count": null,
      "outputs": []
    },
    {
      "cell_type": "code",
      "source": [
        "def await_liftoff():\n",
        "  ''' Identify the frame at which liftoff occurs '''\n",
        "  framepos = 0\n",
        "  interval = 300\n",
        "  clock = ''\n",
        "  # Await first mission clock appearance\n",
        "  while vid.isOpened():\n",
        "    vid.set(cv2.CAP_PROP_POS_FRAMES, int(framepos))\n",
        "    framepos += interval\n",
        "\n",
        "    ret, frame = vid.read()\n",
        "    data = extract_data(frame)\n",
        "\n",
        "    if 'Clock' in data.keys():\n",
        "      clock = data['Clock']\n",
        "      break\n",
        "\n",
        "  # Now wait until the next full second\n",
        "  interval = 1\n",
        "  while vid.isOpened():\n",
        "    vid.set(cv2.CAP_PROP_POS_FRAMES, int(framepos))\n",
        "    framepos += interval\n",
        "\n",
        "    ret, frame = vid.read()\n",
        "    data = extract_data(frame)\n",
        "\n",
        "    if 'Clock' in data.keys() and data['Clock'] != clock:\n",
        "      framepos += int(clock_to_secs(data['Clock']) * fps)\n",
        "      return framepos\n"
      ],
      "metadata": {
        "id": "gMv3SS_RZbvE"
      },
      "execution_count": null,
      "outputs": []
    },
    {
      "cell_type": "code",
      "source": [
        "''' Fetch the trajectory via OCR '''\n",
        "def process_launch(vid, liftoff_frame):\n",
        "  framepos = liftoff_frame\n",
        "  trajectory = pd.DataFrame(columns = ['Clock', 'Elapsed', 'Altitude', 'Velocity'])\n",
        "\n",
        "  while vid.isOpened():\n",
        "    vid.set(cv2.CAP_PROP_POS_FRAMES, int(framepos))\n",
        "    ret, frame = vid.read()\n",
        "    data = extract_data(frame)\n",
        "\n",
        "    if 'Clock' in data.keys() and 'Velocity' in data.keys() and 'Altitude' in data.keys():\n",
        "      # Save data\n",
        "      data['Elapsed'] = round((framepos - liftoff_frame) / fps, 1)\n",
        "      trajectory.loc[len(trajectory)] = data\n",
        "      # Skip to next second\n",
        "      framepos += int(fps - ((framepos - liftoff_frame) % fps)) + 3\n",
        "    else:\n",
        "      framepos += 3\n",
        "    if framepos > liftoff_frame + (60*fps):\n",
        "      break\n",
        "\n",
        "  return trajectory\n"
      ],
      "metadata": {
        "id": "qmFZnT-LCDWd"
      },
      "execution_count": null,
      "outputs": []
    },
    {
      "cell_type": "code",
      "source": [
        "# Fetch file from youtube\n",
        "url = 'https://www.youtube.com/watch?v=agYuEAkEljw'\n",
        "get_video(url, 'launches')"
      ],
      "metadata": {
        "id": "ytb_Z3FqULem",
        "outputId": "0ceff3fa-c8ef-44d1-80a5-0a35e22d62ca",
        "colab": {
          "base_uri": "https://localhost:8080/"
        }
      },
      "execution_count": null,
      "outputs": [
        {
          "output_type": "stream",
          "name": "stdout",
          "text": [
            "Downloading Video 'Starlink Mission'\n",
            "Download complete\n"
          ]
        }
      ]
    },
    {
      "cell_type": "code",
      "source": [
        "# Fetch local file\n",
        "vidpath = 'launches/launch.mp4'\n",
        "vid = cv2.VideoCapture(vidpath)\n",
        "fps = vid.get(cv2.CAP_PROP_FPS)\n",
        "\n",
        "print('Awaiting liftoff')\n",
        "liftoff_frame = await_liftoff()\n",
        "print('Liftoff registered, now monitoring launch')\n",
        "trajectory = process_launch(vid, liftoff_frame)"
      ],
      "metadata": {
        "id": "pH5mT-8xT6G_",
        "colab": {
          "base_uri": "https://localhost:8080/"
        },
        "outputId": "291e009f-613d-481c-ccda-3ee58ec01187"
      },
      "execution_count": null,
      "outputs": [
        {
          "output_type": "stream",
          "name": "stdout",
          "text": [
            "Awaiting liftoff\n",
            "Liftoff registered, now monitoring launch\n"
          ]
        }
      ]
    },
    {
      "cell_type": "code",
      "source": [
        "''' Data Post-Processing '''\n",
        "def smooth_curve(curve):\n",
        "  ''' Correct decimal errors of the OCR algorithm '''\n",
        "  for i in range(len(curve[1:])):\n",
        "    # Avoid zero-divisions\n",
        "    if curve[i] == 0: curve[i] = 0.1\n",
        "    if curve[i+1] / curve[i] > 2:\n",
        "      curve[i+1] /= 10\n",
        "    elif curve[i+1] / curve[i] < 0.5:\n",
        "      curve[i+1] *= 10\n",
        "  return curve\n",
        "\n",
        "trajectory['Altitude (corrected)'] = smooth_curve(trajectory['Altitude'].values.tolist())\n",
        "trajectory.to_csv('trajectory.csv')"
      ],
      "metadata": {
        "id": "rwROF-JV_JEZ"
      },
      "execution_count": 29,
      "outputs": []
    },
    {
      "cell_type": "code",
      "source": [
        "''' Data plots '''\n",
        "x = trajectory['Elapsed'].values.tolist()\n",
        "plt.plot(x, trajectory['Altitude'].values.tolist(), label='Altitude')\n",
        "plt.plot(x, trajectory['Velocity'].values.tolist(), label='Velocity')\n",
        "\n",
        "plt.legend()\n",
        "plt.show()"
      ],
      "metadata": {
        "id": "uKOuMtvxB0GY",
        "colab": {
          "base_uri": "https://localhost:8080/",
          "height": 430
        },
        "outputId": "066081f4-c8e1-43eb-c0ea-6ea9ef5183ba"
      },
      "execution_count": 30,
      "outputs": [
        {
          "output_type": "display_data",
          "data": {
            "text/plain": [
              "<Figure size 640x480 with 1 Axes>"
            ],
            "image/png": "[encoded data removed]"
          },
          "metadata": {}
        }
      ]
    }
  ],
  "metadata": {
    "colab": {
      "name": "Markdown Guide",
      "provenance": [],
      "gpuType": "T4",
      "cell_execution_strategy": "setup",
      "include_colab_link": true
    },
    "kernelspec": {
      "display_name": "Python 3",
      "name": "python3"
    },
    "accelerator": "GPU"
  },
  "nbformat": 4,
  "nbformat_minor": 0
}