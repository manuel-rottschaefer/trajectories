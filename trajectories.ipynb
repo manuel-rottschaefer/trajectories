{
  "cells": [
    {
      "cell_type": "markdown",
      "metadata": {
        "id": "view-in-github",
        "colab_type": "text"
      },
      "source": [
        "<a href=\"https://colab.research.google.com/github/manumeehl/trajectories/blob/main/trajectories.ipynb\" target=\"_parent\"><img src=\"https://colab.research.google.com/assets/colab-badge.svg\" alt=\"Open In Colab\"/></a>"
      ]
    },
    {
      "cell_type": "code",
      "source": [
        "!apt install tesseract-ocr\n",
        "!pip install opencv-python-headless pytesseract pytube"
      ],
      "metadata": {
        "id": "H80IWIdCRriX"
      },
      "execution_count": null,
      "outputs": []
    },
    {
      "cell_type": "code",
      "source": [
        "from google.colab.patches import cv2_imshow as show\n",
        "from pytube import YouTube\n",
        "import pytesseract\n",
        "import cv2\n",
        "import re"
      ],
      "metadata": {
        "id": "27aMJ2fQRsVu"
      },
      "execution_count": 2,
      "outputs": []
    },
    {
      "cell_type": "code",
      "source": [
        "def get_video(url, path):\n",
        "  vid = YouTube(url)\n",
        "  print(f\"Downloading Video '{vid.streams[0].title}'\")\n",
        "  vid.streams.filter(progressive=True, file_extension='mp4').order_by('resolution').desc().first().download(output_path=path, filename='launch')\n",
        "  print('Download complete')"
      ],
      "metadata": {
        "id": "nwUp0dTGSX1P"
      },
      "execution_count": 3,
      "outputs": []
    },
    {
      "cell_type": "code",
      "source": [
        "def custom_crop(frame):\n",
        "  height, width, _ = frame.shape\n",
        "  return frame[height-140:height,0:1920]"
      ],
      "metadata": {
        "id": "VGLLF465Rt5W"
      },
      "execution_count": 4,
      "outputs": []
    },
    {
      "cell_type": "code",
      "source": [
        "def clock_to_secs(clockstring):\n",
        "  ''' Convert a mission clock string to an integer second value '''\n",
        "  tense = -1 if clockstring[:2] == 't-' else 1\n",
        "  # Remove the T+- sign\n",
        "  clockstring = clockstring [2:]\n",
        "  # Get the seconds\n",
        "  units = clockstring.split(':')\n",
        "  hours = int(units[0])\n",
        "  minutes = int(units[1])\n",
        "  seconds = int(units(2))\n",
        "\n",
        "  return hours * 3600 + minutes * 60 + seconds"
      ],
      "metadata": {
        "id": "1maxk5cRdZUi"
      },
      "execution_count": 24,
      "outputs": []
    },
    {
      "cell_type": "code",
      "source": [
        "def get_props(string):\n",
        "  ''' Extract mission clock, altitude and velocity from a given string '''\n",
        "  string = string.lower()\n",
        "\n",
        "  # Apply a blacklist\n",
        "  blacklist = ['stage 1', 'stage 2', 'falcon 9']\n",
        "  for w in blacklist:\n",
        "    string = string.replace(w, '')\n",
        "\n",
        "  # Find all numbers and floats in the string\n",
        "  numbers = re.findall(r'\\d+(?:\\.\\d+)?', string)\n",
        "\n",
        "  # Find the mission clock (T+00:00:00)\n",
        "  mission_clock = re.findall(r't\\+\\d{2}:\\d{2}:\\d{2}', string)\n",
        "\n",
        "  # Remove numbers which also occur in the mission clock\n",
        "  mission_clock_numbers = re.findall(r'\\d+(?:\\.\\d+)?', ' '.join(mission_clock))\n",
        "  for num in mission_clock_numbers:\n",
        "      numbers.remove(num)\n",
        "\n",
        "  # Remove duplicates from the numbers list\n",
        "  numbers = list(set(numbers))\n",
        "\n",
        "  # Sort the numbers list in ascending order\n",
        "  numbers.sort()\n",
        "\n",
        "  # Return the sorted numbers and mission clock\n",
        "  return numbers, mission_clock"
      ],
      "metadata": {
        "id": "ge8m4Hp9RurH"
      },
      "execution_count": 5,
      "outputs": []
    },
    {
      "cell_type": "code",
      "source": [
        "def extract_data(frame):\n",
        "  crop = custom_crop(frame)\n",
        "  gray = cv2.cvtColor(crop, cv2.COLOR_BGR2GRAY)\n",
        "  inverted = cv2.bitwise_not(gray)\n",
        "\n",
        "  text = pytesseract.image_to_string(inverted)\n",
        "  return get_props(text)"
      ],
      "metadata": {
        "id": "Ucf0LBfKZQia"
      },
      "execution_count": 22,
      "outputs": []
    },
    {
      "cell_type": "code",
      "source": [
        "def await_liftoff():\n",
        "  ''' Identify the frame at which liftoff occurs '''\n",
        "  framepos = 0\n",
        "  interval = 300\n",
        "  clock = ''\n",
        "  # Await first mission clock appearance\n",
        "  while vid.isOpened():\n",
        "    vid.set(cv2.CAP_PROP_POS_FRAMES, int(framepos))\n",
        "    framepos += interval\n",
        "\n",
        "    ret, frame = vid.read()\n",
        "    data = extract_data(frame)\n",
        "\n",
        "    if data[0]):\n",
        "      clock = data[0]\n",
        "      print(clock)\n",
        "      break\n",
        "\n",
        "    # Now wait until the next full second\n",
        "    interval = 1\n",
        "    while vid.isOpened():\n",
        "      vid.set(cv2.CAP_PROP_POS_FRAMES, int(framepos))\n",
        "      framepos += interval\n",
        "\n",
        "      ret, frame = vid.read()\n",
        "      data = extract_data(frame)\n",
        "\n",
        "      if data[1] and data[1] != clock:\n",
        "        print(data[1])\n",
        "      else:\n",
        "        print(data)\n",
        "\n",
        "\n"
      ],
      "metadata": {
        "id": "gMv3SS_RZbvE"
      },
      "execution_count": 36,
      "outputs": []
    },
    {
      "cell_type": "code",
      "source": [
        "for i in range(3):\n",
        "  frame = cv2.imread(f'frames/frame_{i+1}.png')\n",
        "  crop = custom_crop(frame)\n",
        "  gray = cv2.cvtColor(crop, cv2.COLOR_BGR2GRAY)\n",
        "  inverted = cv2.bitwise_not(gray)\n",
        "  show(inverted)\n",
        "\n",
        "  output = pytesseract.image_to_string(inverted)\n",
        "  print(extract(output))"
      ],
      "metadata": {
        "id": "VYT9iR5uRyC_"
      },
      "execution_count": null,
      "outputs": []
    },
    {
      "cell_type": "code",
      "source": [
        "url = 'https://www.youtube.com/watch?v=agYuEAkEljw'\n",
        "get_video(url, 'launches')"
      ],
      "metadata": {
        "id": "ytb_Z3FqULem",
        "outputId": "540ac770-bb88-49db-f66a-b3b8d89dd530",
        "colab": {
          "base_uri": "https://localhost:8080/"
        }
      },
      "execution_count": 8,
      "outputs": [
        {
          "output_type": "stream",
          "name": "stdout",
          "text": [
            "Downloading Video 'Starlink Mission'\n",
            "Download complete\n"
          ]
        }
      ]
    },
    {
      "cell_type": "code",
      "source": [
        "vidpath = 'launches/StarlinkMission.mp4'\n",
        "vid = cv2.VideoCapture(vidpath)\n",
        "fps = vid.get(cv2.CAP_PROP_FPS)\n",
        "\n",
        "print('Awaiting liftoff')\n",
        "await_liftoff()"
      ],
      "metadata": {
        "id": "pH5mT-8xT6G_",
        "colab": {
          "base_uri": "https://localhost:8080/",
          "height": 1000
        },
        "outputId": "afaf48a4-12e1-4bc9-c225-54fcdec646f4"
      },
      "execution_count": 37,
      "outputs": [
        {
          "output_type": "stream",
          "name": "stdout",
          "text": [
            "Awaiting liftoff\n",
            "([], [])\n",
            "([], [])\n",
            "([], [])\n",
            "([], [])\n",
            "([], [])\n",
            "([], [])\n",
            "([], [])\n",
            "([], [])\n",
            "([], [])\n",
            "([], [])\n",
            "([], [])\n",
            "([], [])\n",
            "([], [])\n",
            "([], [])\n",
            "([], [])\n",
            "([], [])\n",
            "([], [])\n",
            "([], [])\n",
            "([], [])\n",
            "([], [])\n",
            "([], [])\n",
            "([], [])\n",
            "([], [])\n",
            "([], [])\n",
            "([], [])\n",
            "([], [])\n",
            "([], [])\n",
            "([], [])\n",
            "([], [])\n",
            "([], [])\n",
            "([], [])\n",
            "([], [])\n",
            "([], [])\n",
            "([], [])\n",
            "([], [])\n",
            "([], [])\n",
            "([], [])\n",
            "([], [])\n",
            "([], [])\n",
            "([], [])\n",
            "([], [])\n"
          ]
        },
        {
          "output_type": "error",
          "ename": "KeyboardInterrupt",
          "evalue": "ignored",
          "traceback": [
            "\u001b[0;31m---------------------------------------------------------------------------\u001b[0m",
            "\u001b[0;31mKeyboardInterrupt\u001b[0m                         Traceback (most recent call last)",
            "\u001b[0;32m<ipython-input-37-a2fa99ec0aba>\u001b[0m in \u001b[0;36m<cell line: 6>\u001b[0;34m()\u001b[0m\n\u001b[1;32m      4\u001b[0m \u001b[0;34m\u001b[0m\u001b[0m\n\u001b[1;32m      5\u001b[0m \u001b[0mprint\u001b[0m\u001b[0;34m(\u001b[0m\u001b[0;34m'Awaiting liftoff'\u001b[0m\u001b[0;34m)\u001b[0m\u001b[0;34m\u001b[0m\u001b[0;34m\u001b[0m\u001b[0m\n\u001b[0;32m----> 6\u001b[0;31m \u001b[0mawait_liftoff\u001b[0m\u001b[0;34m(\u001b[0m\u001b[0;34m)\u001b[0m\u001b[0;34m\u001b[0m\u001b[0;34m\u001b[0m\u001b[0m\n\u001b[0m",
            "\u001b[0;32m<ipython-input-36-6cd901b9136f>\u001b[0m in \u001b[0;36mawait_liftoff\u001b[0;34m()\u001b[0m\n\u001b[1;32m     20\u001b[0m     \u001b[0minterval\u001b[0m \u001b[0;34m=\u001b[0m \u001b[0;36m1\u001b[0m\u001b[0;34m\u001b[0m\u001b[0;34m\u001b[0m\u001b[0m\n\u001b[1;32m     21\u001b[0m     \u001b[0;32mwhile\u001b[0m \u001b[0mvid\u001b[0m\u001b[0;34m.\u001b[0m\u001b[0misOpened\u001b[0m\u001b[0;34m(\u001b[0m\u001b[0;34m)\u001b[0m\u001b[0;34m:\u001b[0m\u001b[0;34m\u001b[0m\u001b[0;34m\u001b[0m\u001b[0m\n\u001b[0;32m---> 22\u001b[0;31m       \u001b[0mvid\u001b[0m\u001b[0;34m.\u001b[0m\u001b[0mset\u001b[0m\u001b[0;34m(\u001b[0m\u001b[0mcv2\u001b[0m\u001b[0;34m.\u001b[0m\u001b[0mCAP_PROP_POS_FRAMES\u001b[0m\u001b[0;34m,\u001b[0m \u001b[0mint\u001b[0m\u001b[0;34m(\u001b[0m\u001b[0mframepos\u001b[0m\u001b[0;34m)\u001b[0m\u001b[0;34m)\u001b[0m\u001b[0;34m\u001b[0m\u001b[0;34m\u001b[0m\u001b[0m\n\u001b[0m\u001b[1;32m     23\u001b[0m       \u001b[0mframepos\u001b[0m \u001b[0;34m+=\u001b[0m \u001b[0minterval\u001b[0m\u001b[0;34m\u001b[0m\u001b[0;34m\u001b[0m\u001b[0m\n\u001b[1;32m     24\u001b[0m \u001b[0;34m\u001b[0m\u001b[0m\n",
            "\u001b[0;31mKeyboardInterrupt\u001b[0m: "
          ]
        }
      ]
    }
  ],
  "metadata": {
    "colab": {
      "name": "Markdown Guide",
      "provenance": [],
      "gpuType": "T4",
      "cell_execution_strategy": "setup",
      "include_colab_link": true
    },
    "kernelspec": {
      "display_name": "Python 3",
      "name": "python3"
    },
    "accelerator": "GPU"
  },
  "nbformat": 4,
  "nbformat_minor": 0
}