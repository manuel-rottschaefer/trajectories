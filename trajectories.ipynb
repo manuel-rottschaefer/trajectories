{
  "cells": [
    {
      "cell_type": "markdown",
      "metadata": {
        "id": "view-in-github",
        "colab_type": "text"
      },
      "source": [
        "<a href=\"https://colab.research.google.com/github/manumeehl/trajectories/blob/main/trajectories.ipynb\" target=\"_parent\"><img src=\"https://colab.research.google.com/assets/colab-badge.svg\" alt=\"Open In Colab\"/></a>"
      ]
    },
    {
      "cell_type": "code",
      "source": [
        "!apt install tesseract-ocr\n",
        "!pip install opencv-python-headless pytesseract pytube"
      ],
      "metadata": {
        "id": "H80IWIdCRriX"
      },
      "execution_count": null,
      "outputs": []
    },
    {
      "cell_type": "code",
      "source": [
        "from google.colab.patches import cv2_imshow as show\n",
        "from pytube import YouTube\n",
        "import pandas as pd\n",
        "import pytesseract\n",
        "import cv2\n",
        "import re"
      ],
      "metadata": {
        "id": "27aMJ2fQRsVu"
      },
      "execution_count": null,
      "outputs": []
    },
    {
      "cell_type": "code",
      "source": [
        "def get_video(url, path):\n",
        "  vid = YouTube(url)\n",
        "  print(f\"Downloading Video '{vid.streams[0].title}'\")\n",
        "  vid.streams.filter(progressive=True, file_extension='mp4').order_by('resolution').desc().first().download(output_path=path, filename='launch.mp4')\n",
        "  print('Download complete')"
      ],
      "metadata": {
        "id": "nwUp0dTGSX1P"
      },
      "execution_count": null,
      "outputs": []
    },
    {
      "cell_type": "code",
      "source": [
        "def custom_crop(frame):\n",
        "  height, width, _ = frame.shape\n",
        "  return frame[height-140:height,0:1920]\n",
        "\n",
        "def crop_roi(frame, roi):\n",
        "  ''' Extract from a list of predefined regions of interest (ROI) '''\n",
        "  height, width, _ = frame.shape\n",
        "\n",
        "  if roi == 'Clock':\n",
        "    return frame[height-140:height,int(width/2-200):int(width/2+200)]\n",
        "  if roi == 'Stage 1':\n",
        "    return frame[height-140:height,0:500]\n",
        "  elif roi == 'Stage 2':\n",
        "    return frame[height-140:height,width-500:width]"
      ],
      "metadata": {
        "id": "VGLLF465Rt5W"
      },
      "execution_count": 132,
      "outputs": []
    },
    {
      "cell_type": "code",
      "source": [
        "def clock_to_secs(clockstring):\n",
        "  ''' Convert a mission clock string to an integer second value '''\n",
        "  tense = -1 if clockstring[:2] == 't-' else 1\n",
        "  # Remove the T+- sign\n",
        "  clockstring = clockstring [2:]\n",
        "  # Get the seconds\n",
        "  units = clockstring.split(':')\n",
        "  hours = int(units[0])\n",
        "  minutes = int(units[1])\n",
        "  seconds = int(units[2])\n",
        "\n",
        "  return hours * 3600 + minutes * 60 + seconds"
      ],
      "metadata": {
        "id": "1maxk5cRdZUi"
      },
      "execution_count": null,
      "outputs": []
    },
    {
      "cell_type": "code",
      "source": [
        "def get_props(string):\n",
        "  ''' Extract mission clock, altitude and velocity from a given string '''\n",
        "  string = string.lower()\n",
        "\n",
        "  # Apply a blacklist\n",
        "  blacklist = ['stage 1', 'stage 2', 'falcon 9']\n",
        "  for w in blacklist:\n",
        "    string = string.replace(w, '')\n",
        "\n",
        "  # Find all numbers and floats in the string\n",
        "  numbers = re.findall(r'\\d+(?:\\.\\d+)?', string)\n",
        "\n",
        "  # Find the mission clock (T+00:00:00)\n",
        "  mission_clock = re.findall(r't[+-]\\d{2}:\\d{2}:\\d{2}', string)\n",
        "\n",
        "  if mission_clock:\n",
        "    mission_clock = mission_clock[0]\n",
        "\n",
        "    # Remove numbers which also occur in the mission clock\n",
        "    mission_clock_numbers = re.findall(r'\\d+(?:\\.\\d+)?', ' '.join(mission_clock))\n",
        "    for num in mission_clock_numbers:\n",
        "      if num in numbers:\n",
        "        numbers.remove(num)\n",
        "\n",
        "    # Calculate the elapsed amount of seconds\n",
        "    elapsed = clock_to_secs(mission_clock)\n",
        "  else:\n",
        "    mission_clock = ''\n",
        "    elapsed = 0\n",
        "\n",
        "  # Remove duplicates from the numbers list\n",
        "  numbers = list(set([float(x) for x in numbers]))\n",
        "\n",
        "  altitude, velocity = 0, 0\n",
        "  if numbers:\n",
        "    altitude = min(numbers)\n",
        "    velocity = max(numbers)\n",
        "\n",
        "  # Return the sorted numbers and mission clock\n",
        "  return {\n",
        "      'Clock': mission_clock,\n",
        "      'Elapsed': elapsed,\n",
        "      'Velocity': velocity,\n",
        "      'Altitude': altitude\n",
        "  }\n",
        "\n",
        "def get_trajectory_from_string(string):\n",
        "  ''' Extract altitude and velocity from a given string '''\n",
        "  string = string.lower()\n",
        "\n",
        "  # Apply a blacklist\n",
        "  blacklist = ['stage 1', 'stage 2', 'falcon 9']\n",
        "  for w in blacklist:\n",
        "    string = string.replace(w, '')\n",
        "\n",
        "  # Find all numbers and floats in the string\n",
        "  numbers = re.findall(r'\\d+(?:\\.\\d+)?', string)\n",
        "  numbers = [float(x) for x in numbers]\n",
        "\n",
        "  return {\n",
        "      'altitude': min(numbers),\n",
        "      'velocity': max(numbers)\n",
        "  }\n",
        "\n",
        "def get_clock_from_string(string):\n",
        "  ''' Extract mission clock, altitude and velocity from a given string '''\n",
        "  string = string.lower()\n",
        "\n",
        "  # Find the mission clock (T+00:00:00)\n",
        "  mission_clock = re.findall(r't[+-]\\d{2}:\\d{2}:\\d{2}', string)\n",
        "\n",
        "  if mission_clock:\n",
        "    elapsed = clock_to_secs(mission_clock[0])\n",
        "    return {\n",
        "        'clock': mission_clock,\n",
        "        'elapsed': elapsed\n",
        "    }\n",
        "  else:\n",
        "    return {\n",
        "        'clock': '',\n",
        "        'elapsed': 0\n",
        "    }"
      ],
      "metadata": {
        "id": "ge8m4Hp9RurH"
      },
      "execution_count": 134,
      "outputs": []
    },
    {
      "cell_type": "code",
      "source": [
        "def extract_data(frame):\n",
        "  crop = custom_crop(frame)\n",
        "  gray = cv2.cvtColor(crop, cv2.COLOR_BGR2GRAY)\n",
        "  inverted = cv2.bitwise_not(gray)\n",
        "\n",
        "  text = pytesseract.image_to_string(inverted)\n",
        "  return get_props(text)"
      ],
      "metadata": {
        "id": "Ucf0LBfKZQia"
      },
      "execution_count": null,
      "outputs": []
    },
    {
      "cell_type": "code",
      "source": [
        "def await_liftoff():\n",
        "  ''' Identify the frame at which liftoff occurs '''\n",
        "  framepos = 0\n",
        "  interval = 300\n",
        "  clock = ''\n",
        "  # Await first mission clock appearance\n",
        "  while vid.isOpened():\n",
        "    vid.set(cv2.CAP_PROP_POS_FRAMES, int(framepos))\n",
        "    framepos += interval\n",
        "\n",
        "    ret, frame = vid.read()\n",
        "    data = extract_data(frame)\n",
        "\n",
        "    if data['Clock']:\n",
        "      clock = data['Clock']\n",
        "      break\n",
        "\n",
        "  # Now wait until the next full second\n",
        "  interval = 1\n",
        "  while vid.isOpened():\n",
        "    vid.set(cv2.CAP_PROP_POS_FRAMES, int(framepos))\n",
        "    framepos += interval\n",
        "\n",
        "    ret, frame = vid.read()\n",
        "    data = extract_data(frame)\n",
        "\n",
        "    if data['Clock'] and data['Clock'] != clock:\n",
        "      framepos += data['Elapsed'] * fps\n",
        "      return framepos\n"
      ],
      "metadata": {
        "id": "gMv3SS_RZbvE"
      },
      "execution_count": null,
      "outputs": []
    },
    {
      "cell_type": "code",
      "source": [
        "def process_launch(vid, liftoff_frame):\n",
        "  interval = 1\n",
        "\n",
        "  framepos = liftoff_frame\n",
        "\n",
        "  monitor = pd.DataFrame(columns = ['Clock', 'Elapsed', 'Altitude', 'Velocity'])\n",
        "\n",
        "  while vid.isOpened():\n",
        "    vid.set(cv2.CAP_PROP_POS_FRAMES, int(framepos))\n",
        "    framepos += interval\n",
        "\n",
        "    ret, frame = vid.read()\n",
        "    data = extract_data(frame)\n",
        "\n",
        "    # Check if we already have a valid dataset for this second\n",
        "    monitor.loc[len(monitor)] = data\n",
        "\n",
        "    if framepos > liftoff_frame + 120:\n",
        "      break\n",
        "\n",
        "  return monitor"
      ],
      "metadata": {
        "id": "qmFZnT-LCDWd"
      },
      "execution_count": 114,
      "outputs": []
    },
    {
      "cell_type": "code",
      "source": [
        "url = 'https://www.youtube.com/watch?v=agYuEAkEljw'\n",
        "get_video(url, 'launches')"
      ],
      "metadata": {
        "id": "ytb_Z3FqULem",
        "outputId": "37acbf75-45e6-4ac2-a319-d28c1047a414",
        "colab": {
          "base_uri": "https://localhost:8080/"
        }
      },
      "execution_count": null,
      "outputs": [
        {
          "output_type": "stream",
          "name": "stdout",
          "text": [
            "Downloading Video 'Starlink Mission'\n",
            "Download complete\n"
          ]
        }
      ]
    },
    {
      "cell_type": "code",
      "source": [
        "vidpath = 'launches/launch.mp4'\n",
        "vid = cv2.VideoCapture(vidpath)\n",
        "fps = vid.get(cv2.CAP_PROP_FPS)\n",
        "\n",
        "print('Awaiting liftoff')\n",
        "liftoff_frame = await_liftoff()\n",
        "print('Liftoff registered, now monitoring launch')\n",
        "\n",
        "#vid.set(cv2.CAP_PROP_POS_FRAMES, int(liftoff_frame))\n",
        "#ret, frame = vid.read()\n",
        "#show(frame)\n",
        "\n",
        "trajectory = process_launch(vid, liftoff_frame)\n",
        "trajectory.to_csv('trajectory.csv')"
      ],
      "metadata": {
        "id": "pH5mT-8xT6G_",
        "colab": {
          "base_uri": "https://localhost:8080/"
        },
        "outputId": "aabe5a29-48a3-4d83-fefc-735064c3e9b4"
      },
      "execution_count": 115,
      "outputs": [
        {
          "output_type": "stream",
          "name": "stdout",
          "text": [
            "Awaiting liftoff\n",
            "Liftoff registered, now monitoring launch\n"
          ]
        }
      ]
    },
    {
      "cell_type": "code",
      "source": [
        "def extract_data_dev(frame):\n",
        "  # Extract telemetry of Stage 1\n",
        "  crop = crop_roi(frame, 'Stage 1')\n",
        "  gray = cv2.cvtColor(crop, cv2.COLOR_BGR2GRAY)\n",
        "  inverted = cv2.bitwise_not(gray)\n",
        "  trajectory = get_trajectory_from_string(\n",
        "      pytesseract.image_to_string(inverted))\n",
        "\n",
        "  # Extract telemetry of the Mission Clock\n",
        "  crop = crop_roi(frame, 'Clock')\n",
        "  gray = cv2.cvtColor(crop, cv2.COLOR_BGR2GRAY)\n",
        "  inverted = cv2.bitwise_not(gray)\n",
        "  clock = get_trajectory_from_string(\n",
        "      pytesseract.image_to_string(inverted))\n",
        "\n",
        "  return {**clock, **trajectory}\n",
        "\n",
        "for i in range(3):\n",
        "  frame = cv2.imread(f'frames/frame_{i+1}.png')\n",
        "  data = extract_data_dev(frame)\n",
        "  print(data)"
      ],
      "metadata": {
        "colab": {
          "base_uri": "https://localhost:8080/"
        },
        "id": "qntY3Y59Cq60",
        "outputId": "1367e144-0aed-4d73-a5f9-b4c87cb8df3f"
      },
      "execution_count": 135,
      "outputs": [
        {
          "output_type": "stream",
          "name": "stdout",
          "text": [
            "{'altitude': 0.0, 'velocity': 7.0}\n",
            "{'altitude': 0.0, 'velocity': 38.0}\n",
            "{'altitude': 2.0, 'velocity': 184.0}\n"
          ]
        }
      ]
    }
  ],
  "metadata": {
    "colab": {
      "name": "Markdown Guide",
      "provenance": [],
      "gpuType": "T4",
      "cell_execution_strategy": "setup",
      "include_colab_link": true
    },
    "kernelspec": {
      "display_name": "Python 3",
      "name": "python3"
    },
    "accelerator": "GPU"
  },
  "nbformat": 4,
  "nbformat_minor": 0
}