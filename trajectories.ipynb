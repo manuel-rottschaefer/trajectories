{
  "cells": [
    {
      "cell_type": "markdown",
      "metadata": {
        "id": "view-in-github",
        "colab_type": "text"
      },
      "source": [
        "<a href=\"https://colab.research.google.com/github/manumeehl/trajectories/blob/main/trajectories.ipynb\" target=\"_parent\"><img src=\"https://colab.research.google.com/assets/colab-badge.svg\" alt=\"Open In Colab\"/></a>"
      ]
    },
    {
      "cell_type": "code",
      "source": [
        "!apt install tesseract-ocr\n",
        "!pip install opencv-python-headless pytesseract pytube"
      ],
      "metadata": {
        "id": "H80IWIdCRriX"
      },
      "execution_count": null,
      "outputs": []
    },
    {
      "cell_type": "code",
      "source": [
        "from google.colab.patches import cv2_imshow as show\n",
        "from pytube import YouTube\n",
        "import pytesseract\n",
        "import cv2\n",
        "import re"
      ],
      "metadata": {
        "id": "27aMJ2fQRsVu"
      },
      "execution_count": null,
      "outputs": []
    },
    {
      "cell_type": "code",
      "source": [
        "def get_video(url, path):\n",
        "  vid = YouTube(url)\n",
        "  print(f\"Downloading Video '{vid.streams[0].title}'\")\n",
        "  vid.streams.filter(progressive=True, file_extension='mp4').order_by('resolution').desc().first().download(output_path=path, filename='launch.mp4')\n",
        "  print('Download complete')"
      ],
      "metadata": {
        "id": "nwUp0dTGSX1P"
      },
      "execution_count": 19,
      "outputs": []
    },
    {
      "cell_type": "code",
      "source": [
        "def custom_crop(frame):\n",
        "  height, width, _ = frame.shape\n",
        "  return frame[height-140:height,0:1920]"
      ],
      "metadata": {
        "id": "VGLLF465Rt5W"
      },
      "execution_count": null,
      "outputs": []
    },
    {
      "cell_type": "code",
      "source": [
        "def clock_to_secs(clockstring):\n",
        "  ''' Convert a mission clock string to an integer second value '''\n",
        "  tense = -1 if clockstring[:2] == 't-' else 1\n",
        "  # Remove the T+- sign\n",
        "  clockstring = clockstring [2:]\n",
        "  # Get the seconds\n",
        "  units = clockstring.split(':')\n",
        "  hours = int(units[0])\n",
        "  minutes = int(units[1])\n",
        "  seconds = int(units[2])\n",
        "\n",
        "  return hours * 3600 + minutes * 60 + seconds"
      ],
      "metadata": {
        "id": "1maxk5cRdZUi"
      },
      "execution_count": 76,
      "outputs": []
    },
    {
      "cell_type": "code",
      "source": [
        "def get_props(string):\n",
        "  ''' Extract mission clock, altitude and velocity from a given string '''\n",
        "  string = string.lower()\n",
        "\n",
        "  # Apply a blacklist\n",
        "  blacklist = ['stage 1', 'stage 2', 'falcon 9']\n",
        "  for w in blacklist:\n",
        "    string = string.replace(w, '')\n",
        "\n",
        "  # Find all numbers and floats in the string\n",
        "  numbers = re.findall(r'\\d+(?:\\.\\d+)?', string)\n",
        "\n",
        "  # Find the mission clock (T+00:00:00)\n",
        "  mission_clock = re.findall(r't[+-]\\d{2}:\\d{2}:\\d{2}', string)\n",
        "\n",
        "  if mission_clock:\n",
        "    mission_clock = mission_clock[0]\n",
        "\n",
        "    # Remove numbers which also occur in the mission clock\n",
        "    mission_clock_numbers = re.findall(r'\\d+(?:\\.\\d+)?', ' '.join(mission_clock))\n",
        "    for num in mission_clock_numbers:\n",
        "      if num in numbers:\n",
        "        numbers.remove(num)\n",
        "\n",
        "    # Calculate the elapsed amount of seconds\n",
        "    elapsed = clock_to_secs(mission_clock)\n",
        "  else:\n",
        "    mission_clock = ''\n",
        "    elapsed = 0\n",
        "\n",
        "  # Remove duplicates from the numbers list\n",
        "  numbers = list(set(numbers))\n",
        "\n",
        "  altitude, velocity = 0, 0\n",
        "  if numbers:\n",
        "    altitude = min(numbers)\n",
        "    velocity = max(numbers)\n",
        "\n",
        "  # Return the sorted numbers and mission clock\n",
        "  return {\n",
        "      'clock': mission_clock,\n",
        "      'seconds': elapsed,\n",
        "      'velocity': velocity,\n",
        "      'altitude': altitude\n",
        "  }"
      ],
      "metadata": {
        "id": "ge8m4Hp9RurH"
      },
      "execution_count": 78,
      "outputs": []
    },
    {
      "cell_type": "code",
      "source": [
        "def extract_data(frame):\n",
        "  crop = custom_crop(frame)\n",
        "  gray = cv2.cvtColor(crop, cv2.COLOR_BGR2GRAY)\n",
        "  inverted = cv2.bitwise_not(gray)\n",
        "\n",
        "  text = pytesseract.image_to_string(inverted)\n",
        "  return get_props(text)"
      ],
      "metadata": {
        "id": "Ucf0LBfKZQia"
      },
      "execution_count": 79,
      "outputs": []
    },
    {
      "cell_type": "code",
      "source": [
        "def await_liftoff():\n",
        "  ''' Identify the frame at which liftoff occurs '''\n",
        "  framepos = 0\n",
        "  interval = 300\n",
        "  clock = ''\n",
        "  # Await first mission clock appearance\n",
        "  while vid.isOpened():\n",
        "    vid.set(cv2.CAP_PROP_POS_FRAMES, int(framepos))\n",
        "    framepos += interval\n",
        "\n",
        "    ret, frame = vid.read()\n",
        "    data = extract_data(frame)\n",
        "\n",
        "    if data['clock']:\n",
        "      clock = data['clock']\n",
        "      break\n",
        "\n",
        "  # Now wait until the next full second\n",
        "  interval = 1\n",
        "  while vid.isOpened():\n",
        "    vid.set(cv2.CAP_PROP_POS_FRAMES, int(framepos))\n",
        "    framepos += interval\n",
        "\n",
        "    ret, frame = vid.read()\n",
        "    data = extract_data(frame)\n",
        "\n",
        "    if data['clock'] and data['clock'] != clock:\n",
        "      framepos += data['seconds'] * fps\n",
        "      return framepos\n"
      ],
      "metadata": {
        "id": "gMv3SS_RZbvE"
      },
      "execution_count": 80,
      "outputs": []
    },
    {
      "cell_type": "code",
      "source": [
        "def process_launch(vid, liftoff_frame):\n",
        "  interval = 10\n",
        "\n",
        "  framepos = liftoff_frame\n",
        "  while vid.isOpened():\n",
        "    vid.set(cv2.CAP_PROP_POS_FRAMES, int(framepos))\n",
        "    framepos += interval\n",
        "\n",
        "    ret, frame = vid.read()\n",
        "    data = extract_data(frame)\n",
        "\n",
        "    print(data)"
      ],
      "metadata": {
        "id": "qmFZnT-LCDWd"
      },
      "execution_count": 81,
      "outputs": []
    },
    {
      "cell_type": "code",
      "source": [
        "url = 'https://www.youtube.com/watch?v=agYuEAkEljw'\n",
        "get_video(url, 'launches')"
      ],
      "metadata": {
        "id": "ytb_Z3FqULem",
        "outputId": "37acbf75-45e6-4ac2-a319-d28c1047a414",
        "colab": {
          "base_uri": "https://localhost:8080/"
        }
      },
      "execution_count": 21,
      "outputs": [
        {
          "output_type": "stream",
          "name": "stdout",
          "text": [
            "Downloading Video 'Starlink Mission'\n",
            "Download complete\n"
          ]
        }
      ]
    },
    {
      "cell_type": "code",
      "source": [
        "vidpath = 'launches/launch.mp4'\n",
        "vid = cv2.VideoCapture(vidpath)\n",
        "fps = vid.get(cv2.CAP_PROP_FPS)\n",
        "\n",
        "print('Awaiting liftoff')\n",
        "liftoff_frame = await_liftoff()\n",
        "\n",
        "#vid.set(cv2.CAP_PROP_POS_FRAMES, int(liftoff_frame))\n",
        "#ret, frame = vid.read()\n",
        "#show(frame)\n",
        "\n",
        "process_launch(vid, liftoff_frame)"
      ],
      "metadata": {
        "id": "pH5mT-8xT6G_",
        "colab": {
          "base_uri": "https://localhost:8080/",
          "height": 835
        },
        "outputId": "24cb0743-bf7e-4972-e48d-974b95e6cf58"
      },
      "execution_count": 82,
      "outputs": [
        {
          "output_type": "stream",
          "name": "stdout",
          "text": [
            "Awaiting liftoff\n",
            "{'clock': 't+00:00:00', 'seconds': 0, 'velocity': '00', 'altitude': '00'}\n",
            "{'clock': 't+00:00:00', 'seconds': 0, 'velocity': '00', 'altitude': '00'}\n",
            "{'clock': 't+00:00:00', 'seconds': 0, 'velocity': '00', 'altitude': '00'}\n",
            "{'clock': 't+00:00:01', 'seconds': 1, 'velocity': '01', 'altitude': '00'}\n",
            "{'clock': 't+00:00:01', 'seconds': 1, 'velocity': '7', 'altitude': '0.1'}\n",
            "{'clock': 't+00:00:01', 'seconds': 1, 'velocity': '9', 'altitude': '0.1'}\n",
            "{'clock': 't+00:00:02', 'seconds': 2, 'velocity': '02', 'altitude': '00'}\n",
            "{'clock': '', 'seconds': 0, 'velocity': '02', 'altitude': '00'}\n",
            "{'clock': '', 'seconds': 0, 'velocity': 0, 'altitude': 0}\n",
            "{'clock': '', 'seconds': 0, 'velocity': 0, 'altitude': 0}\n",
            "{'clock': 't+00:00:03', 'seconds': 3, 'velocity': '03', 'altitude': '00'}\n",
            "{'clock': '', 'seconds': 0, 'velocity': 0, 'altitude': 0}\n",
            "{'clock': '', 'seconds': 0, 'velocity': 0, 'altitude': 0}\n",
            "{'clock': '', 'seconds': 0, 'velocity': '04', 'altitude': '00'}\n",
            "{'clock': '', 'seconds': 0, 'velocity': 0, 'altitude': 0}\n",
            "{'clock': '', 'seconds': 0, 'velocity': 0, 'altitude': 0}\n",
            "{'clock': '', 'seconds': 0, 'velocity': 0, 'altitude': 0}\n",
            "{'clock': 't+00:00:05', 'seconds': 5, 'velocity': '37.4', 'altitude': '0.1'}\n",
            "{'clock': 't+00:00:06', 'seconds': 6, 'velocity': '2', 'altitude': '00'}\n",
            "{'clock': 't+00:00:06', 'seconds': 6, 'velocity': '8', 'altitude': '00'}\n",
            "{'clock': 't+00:00:06', 'seconds': 6, 'velocity': '9', 'altitude': '00'}\n",
            "{'clock': 't+00:00:07', 'seconds': 7, 'velocity': '8', 'altitude': '00'}\n",
            "{'clock': 't+00:00:07', 'seconds': 7, 'velocity': '61', 'altitude': '0.1'}\n",
            "{'clock': 't+00:00:07', 'seconds': 7, 'velocity': '66', 'altitude': '00'}\n",
            "{'clock': 't+00:00:08', 'seconds': 8, 'velocity': '7', 'altitude': '0.1'}\n",
            "{'clock': 't+00:00:08', 'seconds': 8, 'velocity': '77', 'altitude': '0.1'}\n",
            "{'clock': 't+00:00:08', 'seconds': 8, 'velocity': '82', 'altitude': '00'}\n",
            "{'clock': 't+00:00:09', 'seconds': 9, 'velocity': '87', 'altitude': '0.2'}\n"
          ]
        },
        {
          "output_type": "error",
          "ename": "KeyboardInterrupt",
          "evalue": "ignored",
          "traceback": [
            "\u001b[0;31m---------------------------------------------------------------------------\u001b[0m",
            "\u001b[0;31mKeyboardInterrupt\u001b[0m                         Traceback (most recent call last)",
            "\u001b[0;32m<ipython-input-82-c45ad1370328>\u001b[0m in \u001b[0;36m<cell line: 12>\u001b[0;34m()\u001b[0m\n\u001b[1;32m     10\u001b[0m \u001b[0;31m#show(frame)\u001b[0m\u001b[0;34m\u001b[0m\u001b[0;34m\u001b[0m\u001b[0m\n\u001b[1;32m     11\u001b[0m \u001b[0;34m\u001b[0m\u001b[0m\n\u001b[0;32m---> 12\u001b[0;31m \u001b[0mprocess_launch\u001b[0m\u001b[0;34m(\u001b[0m\u001b[0mvid\u001b[0m\u001b[0;34m,\u001b[0m \u001b[0mliftoff_frame\u001b[0m\u001b[0;34m)\u001b[0m\u001b[0;34m\u001b[0m\u001b[0;34m\u001b[0m\u001b[0m\n\u001b[0m",
            "\u001b[0;32m<ipython-input-81-6014840c3a81>\u001b[0m in \u001b[0;36mprocess_launch\u001b[0;34m(vid, liftoff_frame)\u001b[0m\n\u001b[1;32m      7\u001b[0m     \u001b[0mframepos\u001b[0m \u001b[0;34m+=\u001b[0m \u001b[0minterval\u001b[0m\u001b[0;34m\u001b[0m\u001b[0;34m\u001b[0m\u001b[0m\n\u001b[1;32m      8\u001b[0m \u001b[0;34m\u001b[0m\u001b[0m\n\u001b[0;32m----> 9\u001b[0;31m     \u001b[0mret\u001b[0m\u001b[0;34m,\u001b[0m \u001b[0mframe\u001b[0m \u001b[0;34m=\u001b[0m \u001b[0mvid\u001b[0m\u001b[0;34m.\u001b[0m\u001b[0mread\u001b[0m\u001b[0;34m(\u001b[0m\u001b[0;34m)\u001b[0m\u001b[0;34m\u001b[0m\u001b[0;34m\u001b[0m\u001b[0m\n\u001b[0m\u001b[1;32m     10\u001b[0m     \u001b[0mdata\u001b[0m \u001b[0;34m=\u001b[0m \u001b[0mextract_data\u001b[0m\u001b[0;34m(\u001b[0m\u001b[0mframe\u001b[0m\u001b[0;34m)\u001b[0m\u001b[0;34m\u001b[0m\u001b[0;34m\u001b[0m\u001b[0m\n\u001b[1;32m     11\u001b[0m \u001b[0;34m\u001b[0m\u001b[0m\n",
            "\u001b[0;31mKeyboardInterrupt\u001b[0m: "
          ]
        }
      ]
    }
  ],
  "metadata": {
    "colab": {
      "name": "Markdown Guide",
      "provenance": [],
      "gpuType": "T4",
      "cell_execution_strategy": "setup",
      "include_colab_link": true
    },
    "kernelspec": {
      "display_name": "Python 3",
      "name": "python3"
    },
    "accelerator": "GPU"
  },
  "nbformat": 4,
  "nbformat_minor": 0
}