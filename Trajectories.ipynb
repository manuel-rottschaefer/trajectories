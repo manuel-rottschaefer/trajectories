{
  "cells": [
    {
      "cell_type": "markdown",
      "metadata": {
        "id": "view-in-github",
        "colab_type": "text"
      },
      "source": [
        "<a href=\"https://colab.research.google.com/github/manumeehl/trajectories/blob/main/Trajectories.ipynb\" target=\"_parent\"><img src=\"https://colab.research.google.com/assets/colab-badge.svg\" alt=\"Open In Colab\"/></a>"
      ]
    },
    {
      "cell_type": "code",
      "source": [
        "%%capture\n",
        "''' SYSTEM PACKAGES '''\n",
        "!apt install tesseract-ocr\n",
        "!pip install opencv-python-headless pytesseract pytube"
      ],
      "metadata": {
        "id": "H80IWIdCRriX"
      },
      "execution_count": 1,
      "outputs": []
    },
    {
      "cell_type": "code",
      "source": [
        "''' PYTHON PACKAGES '''\n",
        "from google.colab.patches import cv2_imshow as show\n",
        "from pytesseract import image_to_string as img_to_str\n",
        "from scipy.interpolate import interp1d\n",
        "from pytube import YouTube, Playlist\n",
        "from scipy.signal import find_peaks\n",
        "import matplotlib.ticker as ticker\n",
        "import matplotlib.pyplot as plt\n",
        "import pandas as pd\n",
        "import numpy as np\n",
        "import json\n",
        "import math\n",
        "import cv2\n",
        "import re\n",
        "import os"
      ],
      "metadata": {
        "id": "27aMJ2fQRsVu"
      },
      "execution_count": 2,
      "outputs": []
    },
    {
      "cell_type": "code",
      "source": [
        "''' GENERIC PYTHON UTILITIES '''\n",
        "def contains_substring(string, list):\n",
        "  ''' Check if a string contains a substring from a list of strings '''\n",
        "  for substring in list:\n",
        "    if substring in string:\n",
        "      return True\n",
        "  return False"
      ],
      "metadata": {
        "id": "5A7Wwbg4lRBy"
      },
      "execution_count": 3,
      "outputs": []
    },
    {
      "cell_type": "code",
      "source": [
        "''' VIDEO UTILITIES '''\n",
        "def get_video(url):\n",
        "  ''' Download a Video from YouTube and save it as MP4 '''\n",
        "  vid = YouTube(url)\n",
        "  print(f\"Downloading Video '{vid.streams[0].title}'\")\n",
        "  vid.streams.filter(progressive=True, file_extension='mp4')\\\n",
        "  .order_by('resolution').desc().first()\\\n",
        "  .download(output_path='temp', filename='launch.mp4')\n",
        "  print('Download complete')\n",
        "  vidfile = cv2.VideoCapture('temp/launch.mp4')\n",
        "  props = {'title': vid.title, 'date': vid.publish_date, 'length': vid.length}\n",
        "  return vidfile, props\n",
        "\n",
        "def show_frame(vid, position):\n",
        "  ''' Show a single frame from a video file '''\n",
        "  # ToDo: Read the video here\n",
        "  vid.set(cv2.CAP_PROP_POS_FRAMES, int(position))\n",
        "  ret, frame = vid.read()\n",
        "  show(frame)"
      ],
      "metadata": {
        "id": "nwUp0dTGSX1P"
      },
      "execution_count": 4,
      "outputs": []
    },
    {
      "cell_type": "code",
      "source": [
        "''' TIME CONVERSION TOOLS '''\n",
        "def clock_to_secs(clockstring):\n",
        "  ''' Convert a mission clock string to an integer second value '''\n",
        "  tense = -1 if clockstring[:2] == 't-' else 1\n",
        "  # Remove the T+- sign\n",
        "  clockstring = clockstring [2:]\n",
        "  # Get the seconds\n",
        "  units = clockstring.split(':')\n",
        "  hours = int(units[0])\n",
        "  minutes = int(units[1])\n",
        "  seconds = int(units[2])\n",
        "\n",
        "  return tense * (hours * 3600 + minutes * 60 + seconds)\n",
        "\n",
        "def elapsed_secs(frame1, frame2, fps):\n",
        "  ''' Get the time between two frames in a video '''\n",
        "  return round((frame2 - frame1) / fps, 2)"
      ],
      "metadata": {
        "id": "1maxk5cRdZUi"
      },
      "execution_count": 5,
      "outputs": []
    },
    {
      "cell_type": "code",
      "source": [
        "''' OCR PARSING AND DATA EXTRACTION '''\n",
        "def parse_clock(string):\n",
        "  ''' Extract mission clock, altitude and velocity from a given string '''\n",
        "  mission_clock = re.findall(r't[+-]\\d{2}:\\d{2}:\\d{2}', string.lower().replace(' ', ''))\n",
        "  if mission_clock: return mission_clock[0]\n",
        "  else: return None\n",
        "\n",
        "def parse_trajectory(string):\n",
        "  ''' Extract altitude and velocity from a given string '''\n",
        "  trajectory = None\n",
        "  # Apply a blacklist\n",
        "  for w in ['stage 1', 'stage 2', 'falcon 9', 'starlink']:\n",
        "    string = string.replace(w, '')\n",
        "  # Find all numbers in the string\n",
        "  num_scan = re.findall(r'\\d+(?:\\.\\d+)?', string.lower())\n",
        "  num_scan = list(set([float(x) for x in num_scan]))\n",
        "  # Check if there are exactly two numbers\n",
        "  if len(num_scan) > 1:\n",
        "    return {\n",
        "      'vel': max(num_scan),\n",
        "      'alt': min(num_scan)\n",
        "    }\n",
        "  else:\n",
        "    return {}\n",
        "\n",
        "def extract_data(vid, scope=[]):\n",
        "  ''' Collect all datapoints from a frame '''\n",
        "  ret, frame = vid.read()\n",
        "  # Get the regions of interest\n",
        "  clockframe, frame_s1, frame_s2 = get_snippets(frame)\n",
        "  ocr_config = '--psm 11'\n",
        "  # Scan for data\n",
        "  clock = parse_clock(img_to_str(clockframe, config={}))\n",
        "\n",
        "  if 's1' in scope:\n",
        "    trj_s1 = parse_trajectory(img_to_str(frame_s1, config=ocr_config))\n",
        "  if 's2' in scope:\n",
        "    trj_s2 = parse_trajectory(img_to_str(frame_s2, config=ocr_config))\n",
        "\n",
        "  return clock, trj_s1, trj_s2"
      ],
      "metadata": {
        "id": "ge8m4Hp9RurH",
        "colab": {
          "base_uri": "https://localhost:8080/",
          "height": 140
        },
        "outputId": "3179a690-d102-4add-eccc-5f33cc387cab"
      },
      "execution_count": 6,
      "outputs": [
        {
          "output_type": "error",
          "ename": "SyntaxError",
          "evalue": "ignored",
          "traceback": [
            "\u001b[0;36m  File \u001b[0;32m\"<ipython-input-6-459525be79d2>\"\u001b[0;36m, line \u001b[0;32m20\u001b[0m\n\u001b[0;31m    'vel': max(num_scan)\u001b[0m\n\u001b[0m           ^\u001b[0m\n\u001b[0;31mSyntaxError\u001b[0m\u001b[0;31m:\u001b[0m invalid syntax. Perhaps you forgot a comma?\n"
          ]
        }
      ]
    },
    {
      "cell_type": "code",
      "source": [
        "''' VIDEO PROCESSING '''\n",
        "def preprocess(frame):\n",
        "  ''' Apply preprocessing filters to a frame '''\n",
        "  return cv2.bitwise_not(cv2.cvtColor(frame, cv2.COLOR_BGR2GRAY))\n",
        "\n",
        "def get_snippets(frame):\n",
        "  ''' Cut out regions of interest and apply filters for OCR '''\n",
        "  height, width, _ = frame.shape\n",
        "\n",
        "  stage1 = preprocess(frame[height-80:height-40,50:300])\n",
        "  stage2 = preprocess(frame[height-80:height-40,width-300:width-50])\n",
        "  clock = preprocess(frame[height-110:height-20,int(width/2-100):int(width/2+100)])\n",
        "\n",
        "  return clock, stage1, stage2"
      ],
      "metadata": {
        "id": "qntY3Y59Cq60"
      },
      "execution_count": null,
      "outputs": []
    },
    {
      "cell_type": "code",
      "source": [
        "''' VIDEO PARAMETER SCAN '''\n",
        "def await_liftoff(vid):\n",
        "  ''' Identify the frame at which liftoff occurs '''\n",
        "  # Look for the clock every minute\n",
        "  framepos, interval = 0, int(30 * vid.get(cv2.CAP_PROP_FPS))\n",
        "  first_clock = None\n",
        "  # Await first mission clock appearance\n",
        "  while vid.isOpened():\n",
        "    vid.set(cv2.CAP_PROP_POS_FRAMES, int(framepos))\n",
        "    framepos += interval\n",
        "    clock, t1, t2 = extract_data(vid)\n",
        "\n",
        "    # Wait until the mission clock first appears\n",
        "    if clock and not first_clock:\n",
        "      first_clock = clock\n",
        "      interval = 1\n",
        "\n",
        "    # Now wait for the next full second\n",
        "    if first_clock and clock != first_clock:\n",
        "      framepos -= clock_to_secs(clock) * vid.get(cv2.CAP_PROP_FPS)\n",
        "      return framepos\n"
      ],
      "metadata": {
        "id": "gMv3SS_RZbvE"
      },
      "execution_count": null,
      "outputs": []
    },
    {
      "cell_type": "code",
      "source": [
        "def detect_meco(velocity: pd.Series, window=5) -> bool:\n",
        "  vel = velocity.values.tolist()\n",
        "  # Check if the dataset is long enough:\n",
        "  if len(vel) < window:\n",
        "    return False\n",
        "  # Check if the velocity has been declining for x values\n",
        "  detected_meco = True\n",
        "  prev_val = vel[len(vel)-1]\n",
        "  for i in range(5):\n",
        "    if vel[len(vel)-1-i] < prev_val:\n",
        "      detected_meco = False\n",
        "  return detected_meco"
      ],
      "metadata": {
        "id": "IgeIfpPUaqAu"
      },
      "execution_count": null,
      "outputs": []
    },
    {
      "cell_type": "code",
      "source": [
        "''' CONTINUOUS DATA SCAN '''\n",
        "waypoints = {\n",
        "    'MECO' : False\n",
        "    'landing': False\n",
        "}\n",
        "\n",
        "def process_launch(vid, liftoff_frame, duration):\n",
        "  framepos = liftoff_frame\n",
        "  trajectory = pd.DataFrame(columns = ['clock', 'secs', 's1_alt', 's1_vel', 's2_alt', 's2_vel'])\n",
        "\n",
        "  while vid.isOpened():\n",
        "    vid.set(cv2.CAP_PROP_POS_FRAMES, int(framepos))\n",
        "    fps = vid.get(cv2.CAP_PROP_FPS)\n",
        "    ret, frame = vid.read()\n",
        "\n",
        "    # If MECO has not happened already, check for it and only look for Stage 1 telemetry\n",
        "    if not waypoints['MECO']:\n",
        "        waypoints['MECO'] = detect_meco(trajectory['s1_vel'], window=3)\n",
        "        # Monitor Stage 1 telemetry only\n",
        "        clock, trj_s1, trj_s2 = extract_data(vid, ['s1'])\n",
        "    else:\n",
        "      # Else, try to monitor both stages\n",
        "      clock, trj_s1, trj_s2 = extract_data(vid, ['s1', 's2'])\n",
        "\n",
        "    # Check if any trajectory can be stored\n",
        "    if clock and (trj_s1 or trj_s2):\n",
        "      # Modify trajectory for each mission phase, then save it\n",
        "      # Before MECO if first stage trajectory is available\n",
        "      if clock and trj_s1 and not trj_s2 and not waypoints['MECO']:\n",
        "        trj_s2 = trj_s1\n",
        "\n",
        "      # After MECO if both telemetries are available\n",
        "      if clock and trj_s1 and trj_s2 and waypoints['MECO']:\n",
        "        # Check if rocket has landed\n",
        "        if trj['vel'] < 1 and trj_s1['alt'] < 1:\n",
        "          waypoints['landing'] = True\n",
        "\n",
        "      # After MECO if only second Stage trajectory is available\n",
        "      if clock and not trj_s1 and trj_s2 and waypoints['MECO']:\n",
        "        trj_s1 = {'vel': 0, 'alt':0}\n",
        "\n",
        "      trajectory.loc[len(trajectory)] = [clock, clock_to_secs(clock),\n",
        "                                         trj_s1['vel'], trj_s1['alt'],\n",
        "                                         trj_s2['vel'], trj_s2['alt']]\n",
        "\n",
        "    else:\n",
        "      # Skip a few frames forward for better chances of successfull OCR\n",
        "      framepos += 5\n",
        "\n",
        "    # Stop at first stage landing or at limit\n",
        "    if waypoints['landing'] or framepos > liftoff_frame + (duration*fps):\n",
        "      break\n",
        "\n",
        "    # Skip to next second\n",
        "    framepos += int(fps - ((framepos - liftoff_frame) % fps)) + 3\n",
        "\n",
        "  return trajectory"
      ],
      "metadata": {
        "id": "qmFZnT-LCDWd"
      },
      "execution_count": null,
      "outputs": []
    },
    {
      "cell_type": "code",
      "source": [
        "def create_charts(title, path, trj):\n",
        "  # Process data\n",
        "  for i in ['s1_alt', 's1_vel', 's2_alt', 's2_vel']:\n",
        "    trj[i] = remove_spikes(trj[i].values.tolist())\n",
        "    trj[i] = interpolate_curve(trj['secs'].values.tolist(), trj[i])[1]\n",
        "\n",
        "  # Define the x axis\n",
        "  clock = trj['secs'].values.tolist()\n",
        "\n",
        "  fig, ax = plt.subplots()\n",
        "  ax.xaxis.set_major_formatter(ticker.FuncFormatter(format_x_axis))\n",
        "  plt.title(f'{title} Velocity')\n",
        "  plt.xticks(rotation=45)\n",
        "  ax.yaxis.set_major_formatter(ticker.FuncFormatter(vel_y_axis))\n",
        "  ax.plot(clock, trj['s1_vel'], label='Stage 1')\n",
        "  ax.plot(clock, trj['s2_vel'], label='Stage 2')\n",
        "  plt.legend()\n",
        "  plt.savefig(f'{path}/velocity.png')\n",
        "  plt.close()\n",
        "\n",
        "  fig, ax = plt.subplots()\n",
        "  ax.xaxis.set_major_formatter(ticker.FuncFormatter(format_x_axis))\n",
        "  plt.title(f'{title} Altitude')\n",
        "  plt.xticks(rotation=45)\n",
        "  ax.yaxis.set_major_formatter(ticker.FuncFormatter(alt_y_axis))\n",
        "  plt.plot(clock, trj['s1_alt'], label='Stage 1')\n",
        "  plt.plot(clock, trj['s2_alt'], label='Stage 2')\n",
        "  plt.legend()\n",
        "  plt.savefig(f'{path}/altitude.png')\n",
        "  plt.close()"
      ],
      "metadata": {
        "id": "LUaFTnmhvQgF"
      },
      "execution_count": null,
      "outputs": []
    },
    {
      "cell_type": "code",
      "source": [
        "''' MAIN ROUTINE '''\n",
        "# Get YouTube Videos\n",
        "def get_videos_of_playlist(playlist_url):\n",
        "  return Playlist(playlist_url).video_urls\n",
        "\n",
        "playlist_url = 'https://www.youtube.com/playlist?list=PLBQ5P5txVQr8qmgRWbVyqhhRzb3Xprefy'\n",
        "playlist = get_videos_of_playlist(playlist_url)\n",
        "vidpath = 'temp/launch.mp4'\n",
        "\n",
        "# Filter out videos which are not launches\n",
        "blacklist = ['docking', 'undocking']\n",
        "\n",
        "for url in playlist[:2]:\n",
        "  # Analyze the current video\n",
        "  title = YouTube(url).title\n",
        "\n",
        "  # Skip non-launch videos\n",
        "  if contains_substring(title.lower(), blacklist):\n",
        "    continue\n",
        "\n",
        "  vid, props = get_video(url)\n",
        "  print(f\"Processing video {props['title']} from {props['date']}\")\n",
        "\n",
        "  print('Searching liftoff frame...')\n",
        "  liftoff_frame = await_liftoff(vid)\n",
        "\n",
        "  # Skip forward two minutes\n",
        "  #start_frame = liftoff_frame + 150 * fps\n",
        "\n",
        "  print('Liftoff registered, now monitoring trajectories...')\n",
        "  trajectory = process_launch(vid, liftoff_frame, 10 * 60)\n",
        "\n",
        "  # Create a new folder for this launch\n",
        "  path = f\"launches/{props['title'].replace(' ', '_')}\"\n",
        "  os.system(f'mkdir {path}')\n",
        "\n",
        "  with open(f'{path}/trajectory.csv', 'w') as json_file:\n",
        "    json.dump(trajectory.to_csv(), json_file)\n",
        "\n",
        "  chart_vel, chart_alt = create_charts(props['title'], path, trajectory)"
      ],
      "metadata": {
        "id": "ytb_Z3FqULem"
      },
      "execution_count": null,
      "outputs": []
    },
    {
      "cell_type": "code",
      "source": [
        "''' DATA POST-PROCESSING '''\n",
        "def remove_spikes(data):\n",
        "    pos_peaks, _ = find_peaks(data)\n",
        "    neg_peaks, _ = find_peaks(-np.array(data))\n",
        "    for peak_index in [*pos_peaks, *neg_peaks]:\n",
        "        data[peak_index] = data[peak_index - 1]\n",
        "    return data\n",
        "\n",
        "def interpolate_curve(x, y):\n",
        "    x_floor = np.floor(x)\n",
        "    x_smooth = np.linspace(x_floor[0], x_floor[-1], len(x_floor))\n",
        "\n",
        "    f = interp1d(x_floor, y, kind='quadratic')\n",
        "    y_smooth = f(x_smooth)\n",
        "\n",
        "    return x_smooth, y_smooth\n",
        "\n",
        "#Axis formatters\n",
        "def format_x_axis(seconds, _):\n",
        "    hours = int(seconds // 3600)\n",
        "    minutes = int((seconds % 3600) // 60)\n",
        "    seconds = int(seconds % 60)\n",
        "    return f\"T+{hours:02}:{minutes:02}:{seconds:02}\"\n",
        "\n",
        "def vel_y_axis(value, _):\n",
        "    return f\"{int(value)} km/h\"\n",
        "\n",
        "def alt_y_axis(value, _):\n",
        "    return f\"{value} km\""
      ],
      "metadata": {
        "id": "rwROF-JV_JEZ"
      },
      "execution_count": null,
      "outputs": []
    }
  ],
  "metadata": {
    "colab": {
      "provenance": [],
      "gpuType": "T4",
      "cell_execution_strategy": "setup",
      "include_colab_link": true
    },
    "kernelspec": {
      "display_name": "Python 3",
      "name": "python3"
    }
  },
  "nbformat": 4,
  "nbformat_minor": 0
}