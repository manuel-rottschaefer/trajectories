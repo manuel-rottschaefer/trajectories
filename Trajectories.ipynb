{
  "cells": [
    {
      "cell_type": "markdown",
      "metadata": {
        "id": "view-in-github",
        "colab_type": "text"
      },
      "source": [
        "<a href=\"https://colab.research.google.com/github/manumeehl/trajectories/blob/main/Trajectories.ipynb\" target=\"_parent\"><img src=\"https://colab.research.google.com/assets/colab-badge.svg\" alt=\"Open In Colab\"/></a>"
      ]
    },
    {
      "cell_type": "code",
      "source": [
        "%%capture\n",
        "''' SYSTEM AND PYTHON PACKAGES '''\n",
        "\n",
        "!apt install tesseract-ocr\n",
        "!pip install opencv-python-headless pytesseract pytube\n",
        "\n",
        "from google.colab.patches import cv2_imshow as show\n",
        "from pytesseract import image_to_string as img_to_str\n",
        "from scipy.interpolate import interp1d\n",
        "from pytube import YouTube, Playlist\n",
        "from scipy.signal import find_peaks\n",
        "import matplotlib.ticker as ticker\n",
        "import matplotlib.pyplot as plt\n",
        "import pandas as pd\n",
        "import numpy as np\n",
        "import json\n",
        "import math\n",
        "import cv2\n",
        "import re\n",
        "import os"
      ],
      "metadata": {
        "id": "H80IWIdCRriX"
      },
      "execution_count": null,
      "outputs": []
    },
    {
      "cell_type": "code",
      "source": [
        "''' GENERIC PYTHON UTILITIES '''\n",
        "\n",
        "def contains_substring(text:str, substrings:list):\n",
        "  ''' Check if a string contains a substring from a list of strings '''\n",
        "  for substring in substrings:\n",
        "    if substring in text:\n",
        "      return True\n",
        "  return False"
      ],
      "metadata": {
        "id": "5A7Wwbg4lRBy"
      },
      "execution_count": null,
      "outputs": []
    },
    {
      "cell_type": "code",
      "source": [
        "''' VIDEO UTILITIES '''\n",
        "\n",
        "def get_video(url:str):\n",
        "  ''' Download a Video from YouTube and save it as MP4 '''\n",
        "  vid = YouTube(url)\n",
        "  print(f\"Downloading Video '{vid.streams[0].title}'\")\n",
        "  vid.streams.filter(progressive=True, file_extension='mp4')\\\n",
        "  .order_by('resolution').desc().first()\\\n",
        "  .download(output_path='temp', filename='launch.mp4')\n",
        "  print('Download complete')\n",
        "  vidfile = cv2.VideoCapture('temp/launch.mp4')\n",
        "  props = {'title': vid.title,\n",
        "           'date': vid.publish_date,\n",
        "           'length': vid.length,\n",
        "           'fps': vidfile.get(cv2.CAP_PROP_FPS)}\n",
        "  return vidfile, props\n",
        "\n",
        "def show_frame(vid, position):\n",
        "  ''' Show a single frame from a video file '''\n",
        "  # ToDo: Read the video here\n",
        "  vid.set(cv2.CAP_PROP_POS_FRAMES, int(position))\n",
        "  ret, frame = vid.read()\n",
        "  show(frame)"
      ],
      "metadata": {
        "id": "nwUp0dTGSX1P"
      },
      "execution_count": 25,
      "outputs": []
    },
    {
      "cell_type": "code",
      "source": [
        "''' TIME CONVERSION TOOLS '''\n",
        "\n",
        "def clock_to_secs(clockstring):\n",
        "  ''' Convert a mission clock string to an integer second value '''\n",
        "  tense = -1 if clockstring[:2] == 't-' else 1\n",
        "  # Remove the T+- sign\n",
        "  clockstring = clockstring [2:]\n",
        "  # Get the seconds\n",
        "  units = clockstring.split(':')\n",
        "  hours = int(units[0])\n",
        "  minutes = int(units[1])\n",
        "  seconds = int(units[2])\n",
        "\n",
        "  return tense * (hours * 3600 + minutes * 60 + seconds)\n",
        "\n",
        "def elapsed_secs(frame1, frame2, fps):\n",
        "  ''' Get the time between two frames in a video '''\n",
        "  return round((frame2 - frame1) / fps, 2)"
      ],
      "metadata": {
        "id": "1maxk5cRdZUi"
      },
      "execution_count": 26,
      "outputs": []
    },
    {
      "cell_type": "code",
      "source": [
        "''' VIDEO PROCESSING '''\n",
        "\n",
        "def preprocess(frame):\n",
        "  ''' Apply preprocessing filters to a frame '''\n",
        "  return cv2.bitwise_not(cv2.cvtColor(frame, cv2.COLOR_BGR2GRAY))\n",
        "\n",
        "def get_snippets(frame):\n",
        "  ''' Cut out regions of interest and apply filters for OCR '''\n",
        "  height, width, _ = frame.shape\n",
        "\n",
        "  stage1 = preprocess(frame[height-80:height-40,50:300])\n",
        "  stage2 = preprocess(frame[height-80:height-40,width-300:width-50])\n",
        "  clock = preprocess(frame[height-110:height-20,int(width/2-100):int(width/2+100)])\n",
        "\n",
        "  return clock, stage1, stage2"
      ],
      "metadata": {
        "id": "qntY3Y59Cq60"
      },
      "execution_count": 27,
      "outputs": []
    },
    {
      "cell_type": "code",
      "source": [
        "''' OCR PARSING AND DATA EXTRACTION '''\n",
        "\n",
        "def parse_clock(text:str) -> str:\n",
        "  ''' Extract mission clock, altitude and velocity from a given string '''\n",
        "  mission_clock = re.findall(r't[+-]\\d{2}:\\d{2}:\\d{2}', text.lower().replace(' ', ''))\n",
        "  if mission_clock: return mission_clock[0]\n",
        "  else: return None\n",
        "\n",
        "def parse_trajectory(text:str) -> dict:\n",
        "  ''' Extract altitude and velocity from a given string '''\n",
        "  trajectory = None\n",
        "  # Apply a blacklist\n",
        "  for w in ['stage 1', 'stage 2', 'falcon 9', 'starlink']:\n",
        "    text = text.replace(w, '')\n",
        "  # Find all numbers in the string\n",
        "  num_scan = re.findall(r'\\d+(?:\\.\\d+)?', text.lower())\n",
        "  vel, alt = interpret_trajectory_numbers(num_scan)\n",
        "  return {'vel': vel, 'alt': alt}\n",
        "\n",
        "def interpret_trajectory_numbers(numbers:list) -> list:\n",
        "  ''' From a list of numbers, determine which is the velocity and which the altitude based on a few requirements '''\n",
        "  # Convert all numbers to float and remove duplicates\n",
        "  numbers = list(set([float(x) for x in numbers]))\n",
        "  # Check if two numbers are available, else return default value\n",
        "  if len(numbers) == 2:\n",
        "    # When speed is zero, altitude is the larger number (shortly after liftoff)\n",
        "    if 0.0 in numbers:\n",
        "      return [0, max(numbers)]\n",
        "    else:\n",
        "      return [max(numbers), min(numbers)]\n",
        "  else:\n",
        "    return [0, 0]\n",
        "\n",
        "def extract_data(vid: cv2.VideoCapture, stages=[], ocr_config='--psm 11'):\n",
        "  ''' Collect all datapoints from a frame '''\n",
        "  # Default values\n",
        "  clock, trajectory = None, {'s1': {}, 's2': {}}\n",
        "  # Get the regions of interest\n",
        "  try:\n",
        "    # Read the current frame\n",
        "    ret, frame = vid.read()\n",
        "    # Get the regions of interest (ROI) for improved OCR\n",
        "    clockframe, frame_s1, frame_s2 = get_snippets(frame)\n",
        "    # Try to get the current mission clock\n",
        "    clock = parse_clock(img_to_str(clockframe, config={}))\n",
        "    if stages[0]: # If Stage 1 trajectory is requested\n",
        "      trajectory['s1'] = parse_trajectory(img_to_str(frame_s1, config=ocr_config))\n",
        "    if stages[1]: # If Stage 2 trajectory is requested\n",
        "      trajectory['s2'] = parse_trajectory(img_to_str(frame_s2, config=ocr_config))\n",
        "  except:\n",
        "    pass\n",
        "  finally:\n",
        "    return clock, trajectory"
      ],
      "metadata": {
        "id": "ge8m4Hp9RurH"
      },
      "execution_count": 28,
      "outputs": []
    },
    {
      "cell_type": "code",
      "source": [
        "''' TRAJECTORY ANALYSIS '''\n",
        "\n",
        "def detect_meco(values: list, window:int=5) -> bool:\n",
        "  print(values)\n",
        "  if len(values) < window: return False\n",
        "  last_vals = values[-window:]\n",
        "  return last_vals == sorted(set(last_vals), reverse=True)\n",
        "\n",
        "def detect_landing(trajectory:dict) -> bool:\n",
        "  return trajectory['vel'] == 0 and trajectory['alt'] == 0"
      ],
      "metadata": {
        "id": "IgeIfpPUaqAu"
      },
      "execution_count": 29,
      "outputs": []
    },
    {
      "cell_type": "code",
      "source": [
        "''' VIDEO PARAMETER SCAN '''\n",
        "\n",
        "def await_liftoff(vid: cv2.VideoCapture) -> int:\n",
        "  ''' Identify the frame ID at which liftoff occurs '''\n",
        "  # Look for the clock every minute\n",
        "  framepos, interval = 0, int(30 * vid.get(cv2.CAP_PROP_FPS))\n",
        "  first_clock = None\n",
        "  # Await first mission clock appearance\n",
        "  while vid.isOpened():\n",
        "    vid.set(cv2.CAP_PROP_POS_FRAMES, int(framepos))\n",
        "    framepos += interval\n",
        "    clock, trj = extract_data(vid)\n",
        "\n",
        "    # Wait until the mission clock first appears\n",
        "    if clock and not first_clock:\n",
        "      first_clock = clock\n",
        "      interval = 1\n",
        "\n",
        "    # Now wait for the next full second\n",
        "    if first_clock and clock != first_clock:\n",
        "      framepos -= clock_to_secs(clock) * vid.get(cv2.CAP_PROP_FPS)\n",
        "      return framepos"
      ],
      "metadata": {
        "id": "gMv3SS_RZbvE"
      },
      "execution_count": 38,
      "outputs": []
    },
    {
      "cell_type": "code",
      "source": [
        "''' CONTINUOUS DATA SCAN '''\n",
        "\n",
        "waypoints = {\n",
        "    'MECO' : False,\n",
        "    'landing': False\n",
        "}\n",
        "\n",
        "def process_launch(vid: cv2.VideoCapture, liftoff_frame: int):\n",
        "  framepos = liftoff_frame\n",
        "  trajectory = pd.DataFrame(columns = ['clock', 'secs', 's1_alt', 's1_vel', 's2_alt', 's2_vel'])\n",
        "\n",
        "  while vid.isOpened():\n",
        "    # Avoid overrun of video frames\n",
        "    if vid.get(cv2.CAP_PROP_POS_FRAMES) > vid.get(cv2.CAP_PROP_FRAME_COUNT):\n",
        "      break\n",
        "    vid.set(cv2.CAP_PROP_POS_FRAMES, int(framepos))\n",
        "    fps = vid.get(cv2.CAP_PROP_FPS)\n",
        "    ret, frame = vid.read()\n",
        "    # First, check if MECO has occured\n",
        "    if not waypoints['MECO']:\n",
        "      waypoints['MECO'] = detect_meco(trajectory['s1_vel'].values.tolist(), window=5)\n",
        "    # If MECO has occured, enable Stage 2 monitoring\n",
        "    stages = [True, True] if waypoints['MECO'] else [True, False]\n",
        "    # Now extract data from the current frame\n",
        "    clock, trj = extract_data(vid, stages)\n",
        "    # Only proceed if at least one trajectory can be assigned to mission clock\n",
        "    if clock and (trj['s1'] or trj['s2']):\n",
        "      # Check if Stage 1 has landed\n",
        "      if waypoints['MECO'] and trj['s1']:\n",
        "        if detect_landing(trj['s1']):\n",
        "          print('Stage 1 landing confirmed!')\n",
        "          break\n",
        "      # Stage 1 & 2 trajectory is the same before MECO\n",
        "      if not waypoints['MECO'] and trj['s1'] and not trj['s2']:\n",
        "        trj['s2'] = trj['s1']\n",
        "\n",
        "      try: # to save the data\n",
        "        trj = list(trj['s1'].values()) +list(trj['s2'].values())\n",
        "        trajectory.loc[len(trajectory)] = [clock, clock_to_secs(clock)] + trj\n",
        "        print([clock, clock_to_secs(clock)] + trj)\n",
        "      except: # debugging if data storage fails\n",
        "        print(trj)\n",
        "      # Skip to next full second\n",
        "      framepos += int(fps - ((framepos - liftoff_frame) % fps)) + 3\n",
        "    else:\n",
        "      # Skip a few frames forward for better chances of successfull OCR\n",
        "      framepos += 5\n",
        "\n",
        "  return trajectory"
      ],
      "metadata": {
        "id": "qmFZnT-LCDWd"
      },
      "execution_count": 34,
      "outputs": []
    },
    {
      "cell_type": "code",
      "source": [
        "def create_charts(title, path, trj):\n",
        "  # Process data\n",
        "  for i in ['s1_alt', 's1_vel', 's2_alt', 's2_vel']:\n",
        "    trj[i] = remove_spikes(trj[i].values.tolist())\n",
        "    trj[i] = interpolate_curve(trj['secs'].values.tolist(), trj[i])[1]\n",
        "\n",
        "  # Define the x axis\n",
        "  clock = trj['secs'].values.tolist()\n",
        "\n",
        "  # Create velocity plot\n",
        "  fig, ax = plt.subplots()\n",
        "  ax.xaxis.set_major_formatter(ticker.FuncFormatter(format_x_axis))\n",
        "  plt.title(f'{title} Velocity')\n",
        "  plt.xticks(rotation=45)\n",
        "  ax.yaxis.set_major_formatter(ticker.FuncFormatter(vel_y_axis))\n",
        "  plt.plot(clock, trj['s2_vel'], label='Stage 2')\n",
        "  plt.plot(clock, trj['s1_vel'], label='Stage 1')\n",
        "  plt.legend()\n",
        "  plt.savefig(f'{path}/velocity.png')\n",
        "  plt.close()\n",
        "\n",
        "  # Create altitude plot\n",
        "  fig, ax = plt.subplots()\n",
        "  ax.xaxis.set_major_formatter(ticker.FuncFormatter(format_x_axis))\n",
        "  plt.title(f'{title} Altitude')\n",
        "  plt.xticks(rotation=45)\n",
        "  ax.yaxis.set_major_formatter(ticker.FuncFormatter(alt_y_axis))\n",
        "  plt.plot(clock, trj['s2_alt'], label='Stage 2')\n",
        "  plt.plot(clock, trj['s1_alt'], label='Stage 1')\n",
        "  plt.legend()\n",
        "  plt.savefig(f'{path}/altitude.png')\n",
        "  plt.close()"
      ],
      "metadata": {
        "id": "LUaFTnmhvQgF"
      },
      "execution_count": 35,
      "outputs": []
    },
    {
      "cell_type": "code",
      "source": [
        "''' DATA POST-PROCESSING '''\n",
        "def remove_spikes(datapoints:list=[]) -> list:\n",
        "  ''' Remove spikes from a list of datapoints '''\n",
        "  pos_peaks, _ = find_peaks(datapoints)\n",
        "  neg_peaks, _ = find_peaks(-np.array(datapoints))\n",
        "  for peak_index in [*pos_peaks, *neg_peaks]:\n",
        "    datapoints[peak_index] = datapoints[peak_index - 1]\n",
        "  return datapoints\n",
        "\n",
        "def interpolate_curve(x, y):\n",
        "    x_floor = np.floor(x)\n",
        "    x_smooth = np.linspace(x_floor[0], x_floor[-1], len(x_floor))\n",
        "\n",
        "    f = interp1d(x_floor, y, kind='quadratic')\n",
        "    y_smooth = f(x_smooth)\n",
        "\n",
        "    return x_smooth, y_smooth\n",
        "\n",
        "# Axis formatters\n",
        "def format_x_axis(seconds, _) -> str:\n",
        "    hours = int(seconds // 3600)\n",
        "    minutes = int((seconds % 3600) // 60)\n",
        "    seconds = int(seconds % 60)\n",
        "    return f\"T+{hours:02}:{minutes:02}:{seconds:02}\"\n",
        "\n",
        "def vel_y_axis(value, _) -> str:\n",
        "    return f\"{int(value)} km/h\"\n",
        "\n",
        "def alt_y_axis(value, _) -> str:\n",
        "    return f\"{int(value)} km\""
      ],
      "metadata": {
        "id": "rwROF-JV_JEZ"
      },
      "execution_count": 36,
      "outputs": []
    },
    {
      "cell_type": "code",
      "source": [
        "''' MAIN ROUTINE '''\n",
        "# Get YouTube Videos\n",
        "def get_videos_of_playlist(playlist_url):\n",
        "  return Playlist(playlist_url).video_urls\n",
        "\n",
        "playlist_url = 'https://www.youtube.com/playlist?list=PLBQ5P5txVQr8qmgRWbVyqhhRzb3Xprefy'\n",
        "playlist = get_videos_of_playlist(playlist_url)\n",
        "vidpath = 'temp/launch.mp4'\n",
        "\n",
        "# Filter out videos which are not launches\n",
        "blacklist = ['docking', 'undocking']\n",
        "\n",
        "os.system('mkdir launches')\n",
        "\n",
        "for url in playlist[:2]:\n",
        "  # Analyze the current video\n",
        "  title = YouTube(url).title\n",
        "\n",
        "  # Skip non-launch videos\n",
        "  if contains_substring(title.lower(), blacklist):\n",
        "    continue\n",
        "\n",
        "  vid, props = get_video(url)\n",
        "  print(f\"Processing video {props['title']} from {props['date']}\")\n",
        "\n",
        "  print('Searching liftoff frame...')\n",
        "  liftoff_frame = await_liftoff(vid)\n",
        "\n",
        "  # Skip forward\n",
        "  #liftoff_frame = liftoff_frame + 7 * 60 * props['fps']\n",
        "\n",
        "  print('Liftoff registered, now monitoring trajectories...')\n",
        "  trajectory = process_launch(vid, liftoff_frame)\n",
        "\n",
        "  # Create a new folder for this launch\n",
        "  path = f\"launches/{props['title'].replace(' ', '_')}\"\n",
        "  os.system(f'mkdir {path}')\n",
        "\n",
        "  with open(f'{path}/trajectory.csv', 'w') as json_file:\n",
        "    json.dump(trajectory.to_csv(), json_file)\n",
        "\n",
        "  create_charts(props['title'], path, trajectory)"
      ],
      "metadata": {
        "id": "ytb_Z3FqULem",
        "colab": {
          "base_uri": "https://localhost:8080/"
        },
        "outputId": "e4edc205-3cb5-4a16-8b23-9f614feb1235"
      },
      "execution_count": null,
      "outputs": [
        {
          "output_type": "stream",
          "name": "stdout",
          "text": [
            "Downloading Video 'Space Development Agency’s Second Tranche 0 Mission'\n",
            "Download complete\n",
            "Processing video Space Development Agency’s Second Tranche 0 Mission from 2023-09-02 00:00:00\n",
            "Searching liftoff frame...\n"
          ]
        }
      ]
    }
  ],
  "metadata": {
    "colab": {
      "provenance": [],
      "gpuType": "T4",
      "cell_execution_strategy": "setup",
      "include_colab_link": true
    },
    "kernelspec": {
      "display_name": "Python 3",
      "name": "python3"
    }
  },
  "nbformat": 4,
  "nbformat_minor": 0
}