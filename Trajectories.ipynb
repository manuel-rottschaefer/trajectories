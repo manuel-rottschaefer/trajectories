{
  "cells": [
    {
      "cell_type": "markdown",
      "metadata": {
        "id": "view-in-github",
        "colab_type": "text"
      },
      "source": [
        "<a href=\"https://colab.research.google.com/github/manumeehl/trajectories/blob/main/Trajectories.ipynb\" target=\"_parent\"><img src=\"https://colab.research.google.com/assets/colab-badge.svg\" alt=\"Open In Colab\"/></a>"
      ]
    },
    {
      "cell_type": "code",
      "source": [
        "%%capture\n",
        "''' SYSTEM PACKAGES '''\n",
        "!apt install tesseract-ocr\n",
        "!pip install opencv-python-headless pytesseract pytube"
      ],
      "metadata": {
        "id": "H80IWIdCRriX"
      },
      "execution_count": 1,
      "outputs": []
    },
    {
      "cell_type": "code",
      "source": [
        "''' PYTHON PACKAGES '''\n",
        "from google.colab.patches import cv2_imshow as show\n",
        "from pytesseract import image_to_string as img_to_str\n",
        "from scipy.interpolate import interp1d\n",
        "from pytube import YouTube, Playlist\n",
        "from scipy.signal import find_peaks\n",
        "import matplotlib.pyplot as plt\n",
        "import pandas as pd\n",
        "import numpy as np\n",
        "import json\n",
        "import math\n",
        "import cv2\n",
        "import re"
      ],
      "metadata": {
        "id": "27aMJ2fQRsVu"
      },
      "execution_count": 12,
      "outputs": []
    },
    {
      "cell_type": "code",
      "source": [
        "''' GENERIC PYTHON UTILITIES '''\n",
        "def contains_substring(string, list):\n",
        "  ''' Check if a string contains a substring from a list of strings '''\n",
        "  for substring in list:\n",
        "    if substring in string:\n",
        "      return True\n",
        "  return False"
      ],
      "metadata": {
        "id": "5A7Wwbg4lRBy"
      },
      "execution_count": 29,
      "outputs": []
    },
    {
      "cell_type": "code",
      "source": [
        "''' VIDEO UTILITIES '''\n",
        "def get_video(url):\n",
        "  ''' Download a Video from YouTube and save it as MP4 '''\n",
        "  vid = YouTube(url)\n",
        "  print(f\"Downloading Video '{vid.streams[0].title}'\")\n",
        "  vid.streams.filter(progressive=True, file_extension='mp4')\\\n",
        "  .order_by('resolution').desc().first()\\\n",
        "  .download(output_path='temp', filename='launch.mp4')\n",
        "  print('Download complete')\n",
        "  vidfile = cv2.VideoCapture('temp/launch.mp4')\n",
        "  props = {'title': vid.title, 'date': vid.publish_date, 'length': vid.length}\n",
        "  return vidfile, props\n",
        "\n",
        "def show_frame(vid, position):\n",
        "  ''' Show a single frame from a video file '''\n",
        "  # ToDo: Read the video here\n",
        "  vid.set(cv2.CAP_PROP_POS_FRAMES, int(position))\n",
        "  ret, frame = vid.read()\n",
        "  show(frame)"
      ],
      "metadata": {
        "id": "nwUp0dTGSX1P"
      },
      "execution_count": 39,
      "outputs": []
    },
    {
      "cell_type": "code",
      "source": [
        "''' TIME CONVERSION TOOLS '''\n",
        "def clock_to_secs(clockstring):\n",
        "  ''' Convert a mission clock string to an integer second value '''\n",
        "  tense = -1 if clockstring[:2] == 't-' else 1\n",
        "  # Remove the T+- sign\n",
        "  clockstring = clockstring [2:]\n",
        "  # Get the seconds\n",
        "  units = clockstring.split(':')\n",
        "  hours = int(units[0])\n",
        "  minutes = int(units[1])\n",
        "  seconds = int(units[2])\n",
        "\n",
        "  return tense * (hours * 3600 + minutes * 60 + seconds)\n",
        "\n",
        "def elapsed_secs(frame1, frame2, fps):\n",
        "  ''' Get the time between two frames in a video '''\n",
        "  return round((frame2 - frame1) / fps, 2)"
      ],
      "metadata": {
        "id": "1maxk5cRdZUi"
      },
      "execution_count": 17,
      "outputs": []
    },
    {
      "cell_type": "code",
      "source": [
        "''' OCR PARSING AND DATA EXTRACTION '''\n",
        "def parse_clock(string):\n",
        "  ''' Extract mission clock, altitude and velocity from a given string '''\n",
        "  mission_clock = re.findall(r't[+-]\\d{2}:\\d{2}:\\d{2}', string.lower().replace(' ', ''))\n",
        "  if mission_clock: return mission_clock[0]\n",
        "  else: return None\n",
        "\n",
        "def parse_trajectory(string):\n",
        "  ''' Extract altitude and velocity from a given string '''\n",
        "  # Apply a blacklist\n",
        "  blacklist = ['stage 1', 'stage 2', 'falcon 9', 'starlink']\n",
        "  for w in blacklist:\n",
        "    string = string.replace(w, '')\n",
        "  # Find all numbers and floats in the string\n",
        "  numbers = re.findall(r'\\d+(?:\\.\\d+)?', string.lower())\n",
        "  numbers = list(set([float(x) for x in numbers]))\n",
        "  # Check if there are exactly two numbers\n",
        "  if len(numbers) == 2:\n",
        "   return  [min(numbers), max(numbers)]\n",
        "  else:\n",
        "    return None\n",
        "\n",
        "def extract_data(vid, scope=[]):\n",
        "  ''' Collect all datapoints from a frame '''\n",
        "  ret, frame = vid.read()\n",
        "  # Get the regions of interest\n",
        "  clockframe, stage1, stage2 = get_snippets(frame)\n",
        "  ocr_config = '--psm 11'\n",
        "  # Scan for data\n",
        "  clock = parse_clock(img_to_str(clockframe, config={}))\n",
        "\n",
        "  trj_s1, trj_s2 = [], []\n",
        "\n",
        "  if 's1' in scope:\n",
        "    trj_s1 = parse_trajectory(img_to_str(stage1, config=ocr_config))\n",
        "  if 's2' in scope:\n",
        "    trj_s2 = parse_trajectory(img_to_str(stage2, config=ocr_config))\n",
        "\n",
        "  return clock, trj_s1, trj_s2"
      ],
      "metadata": {
        "id": "ge8m4Hp9RurH"
      },
      "execution_count": 18,
      "outputs": []
    },
    {
      "cell_type": "code",
      "source": [
        "''' VIDEO PROCESSING '''\n",
        "def preprocess(frame):\n",
        "  ''' Apply preprocessing filters to a frame '''\n",
        "  return cv2.bitwise_not(cv2.cvtColor(frame, cv2.COLOR_BGR2GRAY))\n",
        "\n",
        "def get_snippets(frame):\n",
        "  ''' Cut out regions of interest and apply filters for OCR '''\n",
        "  height, width, _ = frame.shape\n",
        "\n",
        "  stage1 = preprocess(frame[height-80:height-40,50:300])\n",
        "  stage2 = preprocess(frame[height-80:height-40,width-300:width-50])\n",
        "  clock = preprocess(frame[height-110:height-20,int(width/2-100):int(width/2+100)])\n",
        "\n",
        "  return clock, stage1, stage2"
      ],
      "metadata": {
        "id": "qntY3Y59Cq60"
      },
      "execution_count": 19,
      "outputs": []
    },
    {
      "cell_type": "code",
      "source": [
        "''' VIDEO PARAMETER SCAN '''\n",
        "def await_liftoff(vid):\n",
        "  ''' Identify the frame at which liftoff occurs '''\n",
        "  # Look for the clock every minute\n",
        "  framepos, interval = 0, int(30 * vid.get(cv2.CAP_PROP_FPS))\n",
        "  first_clock = None\n",
        "  # Await first mission clock appearance\n",
        "  while vid.isOpened():\n",
        "    vid.set(cv2.CAP_PROP_POS_FRAMES, int(framepos))\n",
        "    framepos += interval\n",
        "    clock, t1, t2 = extract_data(vid)\n",
        "\n",
        "    # Wait until the mission clock first appears\n",
        "    if clock and not first_clock:\n",
        "      first_clock = clock\n",
        "      interval = 1\n",
        "\n",
        "    # Now wait for the next full second\n",
        "    if first_clock and clock != first_clock:\n",
        "      framepos -= clock_to_secs(clock) * vid.get(cv2.CAP_PROP_FPS)\n",
        "      return framepos\n"
      ],
      "metadata": {
        "id": "gMv3SS_RZbvE"
      },
      "execution_count": 20,
      "outputs": []
    },
    {
      "cell_type": "code",
      "source": [
        "def detect_meco(velocity: pd.Series, window=5) -> bool:\n",
        "  vel = velocity.values.tolist()\n",
        "  # Check if the dataset is long enough:\n",
        "  if len(vel) < window:\n",
        "    return False\n",
        "  # Check if the velocity has been declining for x values\n",
        "  detected_meco = True\n",
        "  prev_val = vel[len(vel)-1]\n",
        "  for i in range(5):\n",
        "    if vel[len(vel)-1-i] < prev_val:\n",
        "      detected_meco = False\n",
        "  return detected_meco"
      ],
      "metadata": {
        "id": "IgeIfpPUaqAu"
      },
      "execution_count": 21,
      "outputs": []
    },
    {
      "cell_type": "code",
      "source": [
        "''' CONTINUOUS DATA SCAN '''\n",
        "waypoints = {\n",
        "    'MECO' : False\n",
        "}\n",
        "\n",
        "def process_launch(vid, liftoff_frame, duration):\n",
        "  framepos = liftoff_frame\n",
        "  trajectory = pd.DataFrame(columns = ['clock', 'secs', 's1_alt', 's1_vel', 's2_alt', 's2_vel'])\n",
        "\n",
        "  while vid.isOpened():\n",
        "    vid.set(cv2.CAP_PROP_POS_FRAMES, int(framepos))\n",
        "    fps = vid.get(cv2.CAP_PROP_FPS)\n",
        "    ret, frame = vid.read()\n",
        "\n",
        "    # Check for MECO\n",
        "    if not waypoints['MECO']:\n",
        "        waypoints['MECO'] = detect_meco(trajectory['s1_vel'], window=3)\n",
        "\n",
        "    if not waypoints['MECO']:\n",
        "      # Monitor booster only\n",
        "      clock, trj_s1, trj_s2 = extract_data(vid, ['s1'])\n",
        "    else:\n",
        "      # Monitor both stages\n",
        "      clock, trj_s1, trj_s2 = extract_data(vid, ['s1', 's2'])\n",
        "\n",
        "    # Check if any trajectory can be stored\n",
        "    if clock and (trj_s1 or trj_s2):\n",
        "      # Modify trajectory for each mission phase, then save it\n",
        "      # Before MECO if first stage trajectory is available\n",
        "      if clock and trj_s1 and not trj_s2 and not waypoints['MECO']:\n",
        "        trj_s2 = trj_s1\n",
        "\n",
        "      # After MECO if both telemetries are available\n",
        "      if clock and trj_s1 and trj_s2 and waypoints['MECO']:\n",
        "        pass\n",
        "\n",
        "      # After MECO if only second Stage trajectory is available\n",
        "      if clock and not trj_s1 and trj_s2 and waypoints['MECO']:\n",
        "        trj_s1 = [0, 0]\n",
        "\n",
        "      trajectory.loc[len(trajectory)] = [clock, secs] + trj_s1 + trj_s2\n",
        "\n",
        "    else:\n",
        "      # Skip a few frames forward for better chances of successfull OCR\n",
        "      framepos += 5\n",
        "\n",
        "    # TEMPORARY: Limit scope of trajectory scan\n",
        "    if framepos > liftoff_frame + (duration*fps):\n",
        "      break\n",
        "\n",
        "    # Skip to next second\n",
        "    framepos += int(fps - ((framepos - liftoff_frame) % fps)) + 3\n",
        "\n",
        "  return trajectory"
      ],
      "metadata": {
        "id": "qmFZnT-LCDWd"
      },
      "execution_count": 51,
      "outputs": []
    },
    {
      "cell_type": "code",
      "source": [
        "''' MAIN ROUTINE '''\n",
        "# Get YouTube Videos\n",
        "def get_videos_of_playlist(playlist_url):\n",
        "  return Playlist(playlist_url).video_urls\n",
        "\n",
        "playlist_url = 'https://www.youtube.com/playlist?list=PLBQ5P5txVQr8qmgRWbVyqhhRzb3Xprefy'\n",
        "playlist = get_videos_of_playlist(playlist_url)\n",
        "vidpath = 'temp/launch.mp4'\n",
        "\n",
        "# Filter out videos which are not launches\n",
        "blacklist = ['docking', 'undocking']\n",
        "\n",
        "for url in playlist[:2]:\n",
        "  # Analyze the current video\n",
        "  title = YouTube(url).title\n",
        "\n",
        "  # Skip non-launch videos\n",
        "  if contains_substring(title.lower(), blacklist):\n",
        "    continue\n",
        "\n",
        "  vid, props = get_video(url)\n",
        "  print(f\"Processing video {props['title']} from {props['date']} and length of {props['length']}\")\n",
        "\n",
        "  print('Searching liftoff frame...')\n",
        "  liftoff_frame = await_liftoff(vid)\n",
        "  show_frame(vid, liftoff_frame)\n",
        "\n",
        "  # Skip forward two minutes\n",
        "  #start_frame = liftoff_frame + 150 * fps\n",
        "\n",
        "  print('Liftoff registered, now monitoring trajectories...')\n",
        "  trajectory = process_launch(vid, liftoff_frame, 1 * 60)\n",
        "\n",
        "  data = {\n",
        "      'title': props['title'],\n",
        "      'trajectory': trajectory.to_dict()\n",
        "  }\n",
        "\n",
        "  with open(f\"launches/{props['date']}\", 'w') as json_file:\n",
        "    json.dump(data, json_file)"
      ],
      "metadata": {
        "id": "ytb_Z3FqULem",
        "colab": {
          "base_uri": "https://localhost:8080/"
        },
        "outputId": "bdad7fab-2fb2-469f-9d8f-2aa156b5b610"
      },
      "execution_count": null,
      "outputs": [
        {
          "output_type": "stream",
          "name": "stdout",
          "text": [
            "Downloading Video 'Space Development Agency’s Second Tranche 0 Mission'\n",
            "Download complete\n",
            "Processing video Space Development Agency’s Second Tranche 0 Mission from 2023-09-02 00:00:00 and length of 1455\n",
            "Searching liftoff frame...\n"
          ]
        }
      ]
    },
    {
      "cell_type": "code",
      "source": [
        "''' DATA POST-PROCESSING '''\n",
        "def remove_spikes(data):\n",
        "    pos_peaks, _ = find_peaks(data)\n",
        "    neg_peaks, _ = find_peaks(-np.array(data))\n",
        "    for peak_index in [*pos_peaks, *neg_peaks]:\n",
        "        data[peak_index] = data[peak_index - 1]\n",
        "    return data\n",
        "\n",
        "def interpolate_curve(x, y):\n",
        "    x_floor = np.floor(x)\n",
        "    x_smooth = np.linspace(x_floor[0], x_floor[-1], len(x_floor))\n",
        "\n",
        "    f = interp1d(x_floor, y, kind='quadratic')\n",
        "    y_smooth = f(x_smooth)\n",
        "\n",
        "    return x_smooth, y_smooth\n",
        "\n",
        "# Create a working copy for data plots\n",
        "trj = trajectory.copy()\n",
        "\n",
        "# Process data\n",
        "for i in ['s1_alt', 's1_vel', 's2_alt', 's2_vel']:\n",
        "  trj[i] = remove_spikes(trj[i].values.tolist())\n",
        "  trj[i] = interpolate_curve(trj['secs'].values.tolist(), trj[i])[1]\n",
        "\n",
        "trj.rename(columns={'s1_alt': 'S1 Altitude',\n",
        "                    's1_vel': 'S1 Velocity',\n",
        "                    's2_alt': 'S2 Altitude',\n",
        "                    's2_vel': 'S2 Velocity'},\n",
        "           inplace=True)\n",
        "\n",
        "trj.to_csv('trajectory_corrected.csv')"
      ],
      "metadata": {
        "id": "rwROF-JV_JEZ"
      },
      "execution_count": null,
      "outputs": []
    },
    {
      "cell_type": "code",
      "source": [
        "''' DATA PLOTS '''\n",
        "#trajectory = pd.read_csv('trajectory.csv')\n",
        "clock = trj['secs'].values.tolist()\n",
        "\n",
        "s1_alt = trj['S1 Altitude'].values.tolist()\n",
        "s1_vel = trj['S1 Velocity'].values.tolist()\n",
        "s2_alt = trj['S2 Altitude'].values.tolist()\n",
        "s2_vel = trj['S2 Velocity'].values.tolist()\n",
        "\n",
        "plt.title('Falcon 9 Velocity')\n",
        "plt.xlabel('Seconds', fontsize=12)\n",
        "plt.ylabel('km/h', fontsize=12)\n",
        "plt.plot(clock, s2_vel)\n",
        "plt.plot(clock, s1_vel)\n",
        "plt.show()\n",
        "\n",
        "plt.title('Falcon 9 Altitude')\n",
        "plt.xlabel('Seconds', fontsize=12)\n",
        "plt.ylabel('km', fontsize=12)\n",
        "plt.plot(clock, s2_alt)\n",
        "plt.plot(clock, s1_alt)\n",
        "plt.show()"
      ],
      "metadata": {
        "id": "uKOuMtvxB0GY"
      },
      "execution_count": null,
      "outputs": []
    }
  ],
  "metadata": {
    "colab": {
      "provenance": [],
      "gpuType": "T4",
      "cell_execution_strategy": "setup",
      "include_colab_link": true
    },
    "kernelspec": {
      "display_name": "Python 3",
      "name": "python3"
    }
  },
  "nbformat": 4,
  "nbformat_minor": 0
}