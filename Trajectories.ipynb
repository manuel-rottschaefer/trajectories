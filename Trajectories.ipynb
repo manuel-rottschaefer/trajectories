{
  "cells": [
    {
      "cell_type": "markdown",
      "metadata": {
        "id": "view-in-github",
        "colab_type": "text"
      },
      "source": [
        "<a href=\"https://colab.research.google.com/github/manumeehl/trajectories/blob/main/Trajectories.ipynb\" target=\"_parent\"><img src=\"https://colab.research.google.com/assets/colab-badge.svg\" alt=\"Open In Colab\"/></a>"
      ]
    },
    {
      "cell_type": "code",
      "source": [
        "%%capture\n",
        "''' SYSTEM PACKAGES '''\n",
        "!apt install tesseract-ocr\n",
        "!pip install opencv-python-headless pytesseract pytube"
      ],
      "metadata": {
        "id": "H80IWIdCRriX"
      },
      "execution_count": 1,
      "outputs": []
    },
    {
      "cell_type": "code",
      "source": [
        "''' PYTHON PACKAGES '''\n",
        "from google.colab.patches import cv2_imshow as show\n",
        "from pytesseract import image_to_string as img_to_str\n",
        "from scipy.interpolate import interp1d\n",
        "import matplotlib.pyplot as plt\n",
        "from pytube import YouTube\n",
        "import pandas as pd\n",
        "import numpy as np\n",
        "import math\n",
        "import cv2\n",
        "import re"
      ],
      "metadata": {
        "id": "27aMJ2fQRsVu",
        "colab": {
          "base_uri": "https://localhost:8080/",
          "height": 403
        },
        "outputId": "1432beed-1d32-4d6e-c757-4aa19b0e47b4"
      },
      "execution_count": 2,
      "outputs": [
        {
          "output_type": "error",
          "ename": "ModuleNotFoundError",
          "evalue": "ignored",
          "traceback": [
            "\u001b[0;31m---------------------------------------------------------------------------\u001b[0m",
            "\u001b[0;31mModuleNotFoundError\u001b[0m                       Traceback (most recent call last)",
            "\u001b[0;32m<ipython-input-2-1c762ccd1254>\u001b[0m in \u001b[0;36m<cell line: 3>\u001b[0;34m()\u001b[0m\n\u001b[1;32m      1\u001b[0m \u001b[0;34m''' PYTHON PACKAGES '''\u001b[0m\u001b[0;34m\u001b[0m\u001b[0;34m\u001b[0m\u001b[0m\n\u001b[1;32m      2\u001b[0m \u001b[0;32mfrom\u001b[0m \u001b[0mgoogle\u001b[0m\u001b[0;34m.\u001b[0m\u001b[0mcolab\u001b[0m\u001b[0;34m.\u001b[0m\u001b[0mpatches\u001b[0m \u001b[0;32mimport\u001b[0m \u001b[0mcv2_imshow\u001b[0m \u001b[0;32mas\u001b[0m \u001b[0mshow\u001b[0m\u001b[0;34m\u001b[0m\u001b[0;34m\u001b[0m\u001b[0m\n\u001b[0;32m----> 3\u001b[0;31m \u001b[0;32mfrom\u001b[0m \u001b[0mpytesseract\u001b[0m \u001b[0;32mimport\u001b[0m \u001b[0mimage_to_string\u001b[0m \u001b[0;32mas\u001b[0m \u001b[0mimg_to_str\u001b[0m\u001b[0;34m\u001b[0m\u001b[0;34m\u001b[0m\u001b[0m\n\u001b[0m\u001b[1;32m      4\u001b[0m \u001b[0;32mfrom\u001b[0m \u001b[0mscipy\u001b[0m\u001b[0;34m.\u001b[0m\u001b[0minterpolate\u001b[0m \u001b[0;32mimport\u001b[0m \u001b[0minterp1d\u001b[0m\u001b[0;34m\u001b[0m\u001b[0;34m\u001b[0m\u001b[0m\n\u001b[1;32m      5\u001b[0m \u001b[0;32mimport\u001b[0m \u001b[0mmatplotlib\u001b[0m\u001b[0;34m.\u001b[0m\u001b[0mpyplot\u001b[0m \u001b[0;32mas\u001b[0m \u001b[0mplt\u001b[0m\u001b[0;34m\u001b[0m\u001b[0;34m\u001b[0m\u001b[0m\n",
            "\u001b[0;31mModuleNotFoundError\u001b[0m: No module named 'pytesseract'",
            "",
            "\u001b[0;31m---------------------------------------------------------------------------\u001b[0;32m\nNOTE: If your import is failing due to a missing package, you can\nmanually install dependencies using either !pip or !apt.\n\nTo view examples of installing some common dependencies, click the\n\"Open Examples\" button below.\n\u001b[0;31m---------------------------------------------------------------------------\u001b[0m\n"
          ],
          "errorDetails": {
            "actions": [
              {
                "action": "open_url",
                "actionText": "Open Examples",
                "url": "/notebooks/snippets/importing_libraries.ipynb"
              }
            ]
          }
        }
      ]
    },
    {
      "cell_type": "code",
      "source": [
        "''' VIDEO UTILITIES '''\n",
        "def get_video(url, path):\n",
        "  ''' Download a Video from YouTube and save it as MP4 '''\n",
        "  vid = YouTube(url)\n",
        "  print(f\"Downloading Video '{vid.streams[0].title}'\")\n",
        "  vid.streams.filter(progressive=True, file_extension='mp4')\\\n",
        "  .order_by('resolution').desc().first()\\\n",
        "  .download(output_path=path, filename='launch.mp4')\n",
        "  print('Download complete')\n",
        "\n",
        "def show_frame(vid, position):\n",
        "  ''' Show a single frame from a video file '''\n",
        "  # ToDo: Read the video here\n",
        "  vid.set(cv2.CAP_PROP_POS_FRAMES, int(position))\n",
        "  ret, frame = vid.read()\n",
        "  show(frame)"
      ],
      "metadata": {
        "id": "nwUp0dTGSX1P"
      },
      "execution_count": null,
      "outputs": []
    },
    {
      "cell_type": "code",
      "source": [
        "''' TIME CONVERSION TOOLS '''\n",
        "def clock_to_secs(clockstring):\n",
        "  ''' Convert a mission clock string to an integer second value '''\n",
        "  tense = -1 if clockstring[:2] == 't-' else 1\n",
        "  # Remove the T+- sign\n",
        "  clockstring = clockstring [2:]\n",
        "  # Get the seconds\n",
        "  units = clockstring.split(':')\n",
        "  hours = int(units[0])\n",
        "  minutes = int(units[1])\n",
        "  seconds = int(units[2])\n",
        "\n",
        "  return hours * 3600 + minutes * 60 + seconds\n",
        "\n",
        "def elapsed_secs(frame1, frame2, fps):\n",
        "  ''' Get the time between two frames in a video '''\n",
        "  return round((frame2 - frame1) / fps, 2)"
      ],
      "metadata": {
        "id": "1maxk5cRdZUi"
      },
      "execution_count": null,
      "outputs": []
    },
    {
      "cell_type": "code",
      "source": [
        "''' OCR PARSING AND DATA EXTRACTION '''\n",
        "def parse_clock(string):\n",
        "  ''' Extract mission clock, altitude and velocity from a given string '''\n",
        "  mission_clock = re.findall(r't[+-]\\d{2}:\\d{2}:\\d{2}', string.lower())\n",
        "  if mission_clock: return mission_clock[0]\n",
        "  else: return None\n",
        "\n",
        "def parse_trajectory(string):\n",
        "  ''' Extract altitude and velocity from a given string '''\n",
        "  # Apply a blacklist\n",
        "  blacklist = ['stage 1', 'stage 2', 'falcon 9', 'starlink']\n",
        "  for w in blacklist:\n",
        "    string = string.replace(w, '')\n",
        "  # Find all numbers and floats in the string\n",
        "  numbers = re.findall(r'\\d+(?:\\.\\d+)?', string.lower())\n",
        "  numbers = list(set([float(x) for x in numbers]))\n",
        "  # Check if there are exactly two numbers\n",
        "  if len(numbers) == 2:\n",
        "   return  [min(numbers), max(numbers)]\n",
        "  else:\n",
        "    return None\n",
        "\n",
        "def extract_data(frame):\n",
        "  ''' Collect all datapoints from a frame '''\n",
        "  clockframe, stage1, stage2 = get_snippets(frame)\n",
        "  ocr_config = '--psm 11'\n",
        "  # Scan for data\n",
        "  clock = parse_clock(img_to_str(clockframe, config=ocr_config))\n",
        "  trajectory_s1 = parse_trajectory(img_to_str(stage1, config=ocr_config))\n",
        "  trajectory_s2 = []\n",
        "  # trajectory_s2 = parse_trajectory(img_to_str(stage2, config=ocr_config))\n",
        "  return clock, trajectory_s1, trajectory_s2"
      ],
      "metadata": {
        "id": "ge8m4Hp9RurH"
      },
      "execution_count": null,
      "outputs": []
    },
    {
      "cell_type": "code",
      "source": [
        "''' VIDEO PROCESSING '''\n",
        "def preprocess(frame):\n",
        "  ''' Apply preprocessing filters to a frame '''\n",
        "  return cv2.bitwise_not(cv2.cvtColor(frame, cv2.COLOR_BGR2GRAY))\n",
        "\n",
        "def get_snippets(frame):\n",
        "  ''' Cut out regions of interest and apply filters for OCR '''\n",
        "  height, width, _ = frame.shape\n",
        "\n",
        "  stage1 = preprocess(frame[height-80:height-40,50:300])\n",
        "  stage2 = preprocess(frame[height-80:height-40,width-300:width-50])\n",
        "  clock = preprocess(frame[height-110:height-20,int(width/2-200):int(width/2+200)])\n",
        "\n",
        "  return clock, stage1, stage2"
      ],
      "metadata": {
        "id": "qntY3Y59Cq60"
      },
      "execution_count": null,
      "outputs": []
    },
    {
      "cell_type": "code",
      "source": [
        "''' VIDEO PARAMETER SCAN '''\n",
        "def await_liftoff():\n",
        "  ''' Identify the frame at which liftoff occurs '''\n",
        "  framepos = 0\n",
        "  # Look for the clock every 2 minutes\n",
        "  interval = int(30 * fps)\n",
        "  clock = ''\n",
        "  # Await first mission clock appearance\n",
        "  while vid.isOpened():\n",
        "    vid.set(cv2.CAP_PROP_POS_FRAMES, int(framepos))\n",
        "    framepos += interval\n",
        "\n",
        "    ret, frame = vid.read()\n",
        "    data = extract_data(frame)\n",
        "\n",
        "    if 'Clock' in data.keys():\n",
        "      clock = data['Clock']\n",
        "      break\n",
        "\n",
        "  # Now wait until the next full second\n",
        "  interval = 2\n",
        "  while vid.isOpened():\n",
        "    vid.set(cv2.CAP_PROP_POS_FRAMES, int(framepos))\n",
        "    framepos += interval\n",
        "\n",
        "    ret, frame = vid.read()\n",
        "    data = extract_data(frame)\n",
        "\n",
        "    if 'Clock' in data.keys() and data['Clock'] != clock:\n",
        "      framepos += int(clock_to_secs(data['Clock']) * fps)\n",
        "      return framepos\n"
      ],
      "metadata": {
        "id": "gMv3SS_RZbvE"
      },
      "execution_count": null,
      "outputs": []
    },
    {
      "cell_type": "code",
      "source": [
        "''' CONTINUOUS DATA SCAN '''\n",
        "def process_launch(vid, liftoff_frame, duration):\n",
        "  framepos = liftoff_frame\n",
        "  trajectory = pd.DataFrame(columns = ['clock', 'secs', 's1_alt', 's1_vel'])\n",
        "\n",
        "  while vid.isOpened():\n",
        "    vid.set(cv2.CAP_PROP_POS_FRAMES, int(framepos))\n",
        "    ret, frame = vid.read()\n",
        "    clock, trajectory_s1, trajectory_s2 = extract_data(frame)\n",
        "\n",
        "    if clock and len(trajectory_s1) == 2:\n",
        "      # Save data\n",
        "      secs = elapsed_secs(liftoff_frame, framepos, fps)\n",
        "      trajectory.loc[len(trajectory)] = [clock, secs] + trajectory_s1 + trajectory_s2\n",
        "      # Skip to next second\n",
        "      framepos += int(fps - ((framepos - liftoff_frame) % fps)) + 3\n",
        "    else:\n",
        "      framepos += 5\n",
        "    if framepos > liftoff_frame + (duration*fps):\n",
        "      break\n",
        "\n",
        "  return trajectory"
      ],
      "metadata": {
        "id": "qmFZnT-LCDWd"
      },
      "execution_count": null,
      "outputs": []
    },
    {
      "cell_type": "code",
      "source": [
        "''' MAIN ROUTINE '''\n",
        "# Fetch file from youtube\n",
        "#url = 'https://www.youtube.com/watch?v=agYuEAkEljw'\n",
        "#get_video(url, 'launches')\n",
        "\n",
        "vidpath = 'launches/launch.mp4'\n",
        "vid = cv2.VideoCapture(vidpath)\n",
        "fps = vid.get(cv2.CAP_PROP_FPS)\n",
        "\n",
        "print('Awaiting liftoff')\n",
        "liftoff_frame = await_liftoff()\n",
        "\n",
        "print('Liftoff registered, now monitoring launch')\n",
        "trajectory = process_launch(vid, liftoff_frame, 60)"
      ],
      "metadata": {
        "id": "ytb_Z3FqULem"
      },
      "execution_count": null,
      "outputs": []
    },
    {
      "cell_type": "code",
      "source": [
        "''' DATA POST-PROCESSING '''\n",
        "def smooth_curve(curve):\n",
        "  ''' Correct decimal errors of the OCR algorithm '''\n",
        "  for i in range(len(curve[1:])):\n",
        "    # Avoid zero-divisions\n",
        "    if curve[i] == 0: curve[i] = 0.1\n",
        "    # Apply outlier correction\n",
        "    if curve[i+1] / curve[i] > 100:\n",
        "      curve[i+1] /= 100\n",
        "    elif curve[i+1] / curve[i] > 10:\n",
        "      curve[i+1] /= 10\n",
        "    elif curve[i+1] / curve[i] < 0.2:\n",
        "      curve[i+1] *= 100\n",
        "    elif curve[i+1] / curve[i] < 0.5:\n",
        "      curve[i+1] *= 10\n",
        "  return curve\n",
        "\n",
        "def interpolate_curve(x, y):\n",
        "    x = [math.floor(i) for i in x]\n",
        "    # Double the number of data points\n",
        "    x_smooth = np.linspace(x[0], x[-1], len(x) * 2)\n",
        "\n",
        "    # Use cubic spline interpolation to generate smooth y values\n",
        "    f = interp1d(x, y, kind='quadratic')\n",
        "    y_smooth = f(x_smooth)\n",
        "\n",
        "    return x_smooth, y_smooth\n",
        "\n",
        "trajectory['s1_alt_corr'] = smooth_curve(trajectory['s1_alt'].values.tolist())\n",
        "trajectory['s1_vel_corr'] = smooth_curve(trajectory['s1_vel'].values.tolist())\n",
        "trajectory.to_csv('trajectory.csv')"
      ],
      "metadata": {
        "id": "rwROF-JV_JEZ"
      },
      "execution_count": null,
      "outputs": []
    },
    {
      "cell_type": "code",
      "source": [
        "''' DATA PLOTS '''\n",
        "#trajectory = pd.read_csv('trajectory.csv')\n",
        "clock = trajectory['secs'].values.tolist()\n",
        "\n",
        "altitude = trajectory['s1_alt_corr'].values.tolist()\n",
        "velocity = trajectory['s1_vel_corr'].values.tolist()\n",
        "\n",
        "plt.title('Falcon 9 Stage 1 Velocity')\n",
        "plt.xlabel('Seconds', fontsize=12)\n",
        "plt.ylabel('km/h', fontsize=12)\n",
        "plt.plot(clock, velocity)\n",
        "plt.show()\n",
        "\n",
        "plt.title('Falcon 9 Stage 1 Altitude')\n",
        "plt.xlabel('Seconds', fontsize=12)\n",
        "plt.ylabel('km', fontsize=12)\n",
        "plt.plot(clock, altitude)\n",
        "plt.show()"
      ],
      "metadata": {
        "id": "uKOuMtvxB0GY"
      },
      "execution_count": null,
      "outputs": []
    }
  ],
  "metadata": {
    "colab": {
      "provenance": [],
      "gpuType": "T4",
      "cell_execution_strategy": "setup",
      "include_colab_link": true
    },
    "kernelspec": {
      "display_name": "Python 3",
      "name": "python3"
    }
  },
  "nbformat": 4,
  "nbformat_minor": 0
}