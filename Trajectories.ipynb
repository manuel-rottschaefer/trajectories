{
  "cells": [
    {
      "cell_type": "markdown",
      "metadata": {
        "id": "view-in-github",
        "colab_type": "text"
      },
      "source": [
        "<a href=\"https://colab.research.google.com/github/manumeehl/trajectories/blob/main/Trajectories.ipynb\" target=\"_parent\"><img src=\"https://colab.research.google.com/assets/colab-badge.svg\" alt=\"Open In Colab\"/></a>"
      ]
    },
    {
      "cell_type": "code",
      "source": [
        "%%capture\n",
        "!apt install tesseract-ocr\n",
        "!pip install opencv-python-headless pytesseract pytube"
      ],
      "metadata": {
        "id": "H80IWIdCRriX"
      },
      "execution_count": null,
      "outputs": []
    },
    {
      "cell_type": "code",
      "source": [
        "from google.colab.patches import cv2_imshow as show\n",
        "from pytesseract import image_to_string as img_to_str\n",
        "from scipy.interpolate import interp1d\n",
        "import matplotlib.pyplot as plt\n",
        "from pytube import YouTube\n",
        "import pandas as pd\n",
        "import numpy as np\n",
        "import pytesseract\n",
        "import math\n",
        "import cv2\n",
        "import re"
      ],
      "metadata": {
        "id": "27aMJ2fQRsVu"
      },
      "execution_count": 22,
      "outputs": []
    },
    {
      "cell_type": "code",
      "source": [
        "''' Video Tools '''\n",
        "def get_video(url, path):\n",
        "  vid = YouTube(url)\n",
        "  print(f\"Downloading Video '{vid.streams[0].title}'\")\n",
        "  vid.streams.filter(progressive=True, file_extension='mp4').order_by('resolution').desc().first().download(output_path=path, filename='launch.mp4')\n",
        "  print('Download complete')\n",
        "\n",
        "def show_frame(vid, position):\n",
        "  vid.set(cv2.CAP_PROP_POS_FRAMES, int(position))\n",
        "  ret, frame = vid.read()\n",
        "  show(frame)"
      ],
      "metadata": {
        "id": "nwUp0dTGSX1P"
      },
      "execution_count": null,
      "outputs": []
    },
    {
      "cell_type": "code",
      "source": [
        "''' Conversion tools '''\n",
        "def clock_to_secs(clockstring):\n",
        "  ''' Convert a mission clock string to an integer second value '''\n",
        "  tense = -1 if clockstring[:2] == 't-' else 1\n",
        "  # Remove the T+- sign\n",
        "  clockstring = clockstring [2:]\n",
        "  # Get the seconds\n",
        "  units = clockstring.split(':')\n",
        "  hours = int(units[0])\n",
        "  minutes = int(units[1])\n",
        "  seconds = int(units[2])\n",
        "\n",
        "  return hours * 3600 + minutes * 60 + seconds\n",
        "\n",
        "def frame_to_elapsed(framepos):\n",
        "  # Calculate the exact time since liftoff based on the current frame\n",
        "  return  round((framepos - liftoff_frame) / fps, 2)"
      ],
      "metadata": {
        "id": "1maxk5cRdZUi"
      },
      "execution_count": null,
      "outputs": []
    },
    {
      "cell_type": "code",
      "source": [
        "''' OCR parsing '''\n",
        "def parse_clock(string):\n",
        "  ''' Extract mission clock, altitude and velocity from a given string '''\n",
        "  string = string.lower()\n",
        "\n",
        "  # Find the mission clock (T+00:00:00)\n",
        "  mission_clock = re.findall(r't[+-]\\d{2}:\\d{2}:\\d{2}', string)\n",
        "  if mission_clock: return mission_clock[0]\n",
        "  else: return None\n",
        "\n",
        "def parse_trajectory(string):\n",
        "  ''' Extract altitude and velocity from a given string '''\n",
        "  string = string.lower()\n",
        "  output = []\n",
        "\n",
        "  # Apply a blacklist\n",
        "  blacklist = ['stage 1', 'stage 2', 'falcon 9', 'starlink']\n",
        "  for w in blacklist:\n",
        "    string = string.replace(w, '')\n",
        "\n",
        "  # Find all numbers and floats in the string\n",
        "  numbers = re.findall(r'\\d+(?:\\.\\d+)?', string)\n",
        "  numbers = list(set([float(x) for x in numbers]))\n",
        "  # Check if there are exactly two numbers\n",
        "  if len(numbers) == 2:\n",
        "    output =  [min(numbers), max(numbers)]\n",
        "  return output"
      ],
      "metadata": {
        "id": "ge8m4Hp9RurH"
      },
      "execution_count": 24,
      "outputs": []
    },
    {
      "cell_type": "code",
      "source": [
        "def preprocess(frame):\n",
        "  ''' Apply preprocessing filters to a frame '''\n",
        "  return cv2.bitwise_not(cv2.cvtColor(frame, cv2.COLOR_BGR2GRAY))\n",
        "\n",
        "def get_snippets(frame):\n",
        "  ''' Cut out regions of interest and apply filters for OCR '''\n",
        "  height, width, _ = frame.shape\n",
        "\n",
        "  stage1 = preprocess(frame[height-80:height-40,50:300])\n",
        "  stage2 = preprocess(frame[height-80:height-40,width-300:width-50])\n",
        "  clock = preprocess(frame[height-110:height-20,int(width/2-200):int(width/2+200)])\n",
        "\n",
        "  return clock, stage1, stage2\n",
        "\n",
        "def extract_data(frame):\n",
        "  ''' Pre-process frames and extract the data '''\n",
        "  clockframe, stage1, stage2 = get_snippets(frame)\n",
        "  ocr_config = '--psm 11'\n",
        "\n",
        "  clock = parse_clock(img_to_str(clockframe, config=ocr_config))\n",
        "  trajectory_s1 = parse_trajectory(img_to_str(stage1, config=ocr_config))\n",
        "  trajectory_s2 = []\n",
        "  # trajectory_s2 = parse_trajectory(img_to_str(stage2, config=ocr_config))\n",
        "\n",
        "  return clock, trajectory_s1, trajectory_s2"
      ],
      "metadata": {
        "id": "qntY3Y59Cq60"
      },
      "execution_count": 43,
      "outputs": []
    },
    {
      "cell_type": "code",
      "source": [
        "def await_liftoff():\n",
        "  ''' Identify the frame at which liftoff occurs '''\n",
        "  framepos = 0\n",
        "  # Look for the clock every 2 minutes\n",
        "  interval = int(30 * fps)\n",
        "  clock = ''\n",
        "  # Await first mission clock appearance\n",
        "  while vid.isOpened():\n",
        "    vid.set(cv2.CAP_PROP_POS_FRAMES, int(framepos))\n",
        "    framepos += interval\n",
        "\n",
        "    ret, frame = vid.read()\n",
        "    data = extract_data(frame)\n",
        "\n",
        "    if 'Clock' in data.keys():\n",
        "      clock = data['Clock']\n",
        "      break\n",
        "\n",
        "  # Now wait until the next full second\n",
        "  interval = 2\n",
        "  while vid.isOpened():\n",
        "    vid.set(cv2.CAP_PROP_POS_FRAMES, int(framepos))\n",
        "    framepos += interval\n",
        "\n",
        "    ret, frame = vid.read()\n",
        "    data = extract_data(frame)\n",
        "\n",
        "    if 'Clock' in data.keys() and data['Clock'] != clock:\n",
        "      framepos += int(clock_to_secs(data['Clock']) * fps)\n",
        "      return framepos\n"
      ],
      "metadata": {
        "id": "gMv3SS_RZbvE"
      },
      "execution_count": 26,
      "outputs": []
    },
    {
      "cell_type": "code",
      "source": [
        "''' Fetch the trajectory via OCR '''\n",
        "def process_launch(vid, liftoff_frame):\n",
        "  framepos = liftoff_frame\n",
        "  trajectory = pd.DataFrame(columns = ['clock', 'secs', 's1_alt', 's1_vel'])\n",
        "\n",
        "  while vid.isOpened():\n",
        "    vid.set(cv2.CAP_PROP_POS_FRAMES, int(framepos))\n",
        "    ret, frame = vid.read()\n",
        "    clock, trajectory_s1, trajectory_s2 = extract_data(frame)\n",
        "\n",
        "    if clock and len(trajectory_s1) == 2:\n",
        "      # Save data\n",
        "      secs = round((framepos - liftoff_frame) / fps, 1)\n",
        "      trajectory.loc[len(trajectory)] = [clock, secs] + trajectory_s1 + trajectory_s2\n",
        "      # Skip to next second\n",
        "      framepos += int(fps - ((framepos - liftoff_frame) % fps)) + 3\n",
        "    else:\n",
        "      framepos += 5\n",
        "    if framepos > liftoff_frame + (10*fps):\n",
        "      break\n",
        "\n",
        "  return trajectory\n"
      ],
      "metadata": {
        "id": "qmFZnT-LCDWd"
      },
      "execution_count": 46,
      "outputs": []
    },
    {
      "cell_type": "code",
      "source": [
        "# Fetch file from youtube\n",
        "url = 'https://www.youtube.com/watch?v=agYuEAkEljw'\n",
        "get_video(url, 'launches')"
      ],
      "metadata": {
        "id": "ytb_Z3FqULem",
        "outputId": "2013aad0-e384-45e8-b014-8babf8be81e1",
        "colab": {
          "base_uri": "https://localhost:8080/"
        }
      },
      "execution_count": null,
      "outputs": [
        {
          "output_type": "stream",
          "name": "stdout",
          "text": [
            "Downloading Video 'Starlink Mission'\n",
            "Download complete\n"
          ]
        }
      ]
    },
    {
      "cell_type": "code",
      "source": [
        "# Fetch local file\n",
        "vidpath = 'launches/launch.mp4'\n",
        "vid = cv2.VideoCapture(vidpath)\n",
        "fps = vid.get(cv2.CAP_PROP_FPS)\n",
        "\n",
        "print('Awaiting liftoff')\n",
        "liftoff_frame = await_liftoff()\n",
        "\n",
        "# Show liftoff frame\n",
        "#show_frame(vid, liftoff_frame)"
      ],
      "metadata": {
        "id": "pH5mT-8xT6G_",
        "colab": {
          "base_uri": "https://localhost:8080/"
        },
        "outputId": "295626c1-9407-462a-ea65-17173ee1dcc6"
      },
      "execution_count": null,
      "outputs": [
        {
          "output_type": "stream",
          "name": "stdout",
          "text": [
            "Awaiting liftoff\n"
          ]
        }
      ]
    },
    {
      "cell_type": "code",
      "source": [
        "print('Liftoff registered, now monitoring launch')\n",
        "trajectory = process_launch(vid, liftoff_frame)"
      ],
      "metadata": {
        "colab": {
          "base_uri": "https://localhost:8080/"
        },
        "id": "19ULD0ZJv3mV",
        "outputId": "b794d75e-8d9f-4b7f-defd-c8560c66020a"
      },
      "execution_count": 47,
      "outputs": [
        {
          "output_type": "stream",
          "name": "stdout",
          "text": [
            "Liftoff registered, now monitoring launch\n"
          ]
        }
      ]
    },
    {
      "cell_type": "code",
      "source": [
        "''' Data Post-Processing '''\n",
        "def smooth_curve(curve):\n",
        "  ''' Correct decimal errors of the OCR algorithm '''\n",
        "  for i in range(len(curve[1:])):\n",
        "    # Avoid zero-divisions\n",
        "    if curve[i] == 0: curve[i] = 0.1\n",
        "    # Apply outlier correction\n",
        "    if curve[i+1] / curve[i] > 100:\n",
        "      curve[i+1] /= 100\n",
        "    elif curve[i+1] / curve[i] > 2:\n",
        "      curve[i+1] /= 10\n",
        "    elif curve[i+1] / curve[i] < 0.5:\n",
        "      curve[i+1] *= 10\n",
        "  return curve\n",
        "\n",
        "def interpolate_curve(x, y):\n",
        "    x = [math.floor(i) for i in x]\n",
        "    # Double the number of data points\n",
        "    x_smooth = np.linspace(x[0], x[-1], len(x) * 2)\n",
        "\n",
        "    # Use cubic spline interpolation to generate smooth y values\n",
        "    f = interp1d(x, y, kind='quadratic')\n",
        "    y_smooth = f(x_smooth)\n",
        "\n",
        "    return x_smooth, y_smooth\n",
        "\n",
        "trajectory['s1_alt_corr'] = smooth_curve(trajectory['s1_alt'].values.tolist())\n",
        "trajectory['s1_vel_corr'] = smooth_curve(trajectory['s1_vel'].values.tolist())\n",
        "trajectory.to_csv('trajectory.csv')"
      ],
      "metadata": {
        "id": "rwROF-JV_JEZ"
      },
      "execution_count": 50,
      "outputs": []
    },
    {
      "cell_type": "code",
      "source": [
        "''' Data plots '''\n",
        "#trajectory = pd.read_csv('trajectory.csv')\n",
        "clock = trajectory['secs'].values.tolist()\n",
        "\n",
        "altitude = trajectory['Altitude (corrected)'].values.tolist()\n",
        "velocity = trajectory['Velocity (corrected)'].values.tolist()\n",
        "\n",
        "plt.title('Falcon 9 Stage 1 Velocity')\n",
        "plt.plot(clock, velocity)\n",
        "plt.show()\n",
        "\n",
        "plt.title('Falcon 9 Stage 2 Altitude')\n",
        "plt.plot(clock, altitude)\n",
        "plt.show()"
      ],
      "metadata": {
        "id": "uKOuMtvxB0GY",
        "colab": {
          "base_uri": "https://localhost:8080/",
          "height": 538
        },
        "outputId": "17966ba3-ee1c-4a40-c7ea-ef0dd14cb667"
      },
      "execution_count": 51,
      "outputs": [
        {
          "output_type": "error",
          "ename": "KeyError",
          "evalue": "ignored",
          "traceback": [
            "\u001b[0;31m---------------------------------------------------------------------------\u001b[0m",
            "\u001b[0;31mKeyError\u001b[0m                                  Traceback (most recent call last)",
            "\u001b[0;32m/usr/local/lib/python3.10/dist-packages/pandas/core/indexes/base.py\u001b[0m in \u001b[0;36mget_loc\u001b[0;34m(self, key, method, tolerance)\u001b[0m\n\u001b[1;32m   3801\u001b[0m             \u001b[0;32mtry\u001b[0m\u001b[0;34m:\u001b[0m\u001b[0;34m\u001b[0m\u001b[0;34m\u001b[0m\u001b[0m\n\u001b[0;32m-> 3802\u001b[0;31m                 \u001b[0;32mreturn\u001b[0m \u001b[0mself\u001b[0m\u001b[0;34m.\u001b[0m\u001b[0m_engine\u001b[0m\u001b[0;34m.\u001b[0m\u001b[0mget_loc\u001b[0m\u001b[0;34m(\u001b[0m\u001b[0mcasted_key\u001b[0m\u001b[0;34m)\u001b[0m\u001b[0;34m\u001b[0m\u001b[0;34m\u001b[0m\u001b[0m\n\u001b[0m\u001b[1;32m   3803\u001b[0m             \u001b[0;32mexcept\u001b[0m \u001b[0mKeyError\u001b[0m \u001b[0;32mas\u001b[0m \u001b[0merr\u001b[0m\u001b[0;34m:\u001b[0m\u001b[0;34m\u001b[0m\u001b[0;34m\u001b[0m\u001b[0m\n",
            "\u001b[0;32m/usr/local/lib/python3.10/dist-packages/pandas/_libs/index.pyx\u001b[0m in \u001b[0;36mpandas._libs.index.IndexEngine.get_loc\u001b[0;34m()\u001b[0m\n",
            "\u001b[0;32m/usr/local/lib/python3.10/dist-packages/pandas/_libs/index.pyx\u001b[0m in \u001b[0;36mpandas._libs.index.IndexEngine.get_loc\u001b[0;34m()\u001b[0m\n",
            "\u001b[0;32mpandas/_libs/hashtable_class_helper.pxi\u001b[0m in \u001b[0;36mpandas._libs.hashtable.PyObjectHashTable.get_item\u001b[0;34m()\u001b[0m\n",
            "\u001b[0;32mpandas/_libs/hashtable_class_helper.pxi\u001b[0m in \u001b[0;36mpandas._libs.hashtable.PyObjectHashTable.get_item\u001b[0;34m()\u001b[0m\n",
            "\u001b[0;31mKeyError\u001b[0m: 'Altitude (corrected)'",
            "\nThe above exception was the direct cause of the following exception:\n",
            "\u001b[0;31mKeyError\u001b[0m                                  Traceback (most recent call last)",
            "\u001b[0;32m<ipython-input-51-65b4f02026e4>\u001b[0m in \u001b[0;36m<cell line: 5>\u001b[0;34m()\u001b[0m\n\u001b[1;32m      3\u001b[0m \u001b[0mclock\u001b[0m \u001b[0;34m=\u001b[0m \u001b[0mtrajectory\u001b[0m\u001b[0;34m[\u001b[0m\u001b[0;34m'secs'\u001b[0m\u001b[0;34m]\u001b[0m\u001b[0;34m.\u001b[0m\u001b[0mvalues\u001b[0m\u001b[0;34m.\u001b[0m\u001b[0mtolist\u001b[0m\u001b[0;34m(\u001b[0m\u001b[0;34m)\u001b[0m\u001b[0;34m\u001b[0m\u001b[0;34m\u001b[0m\u001b[0m\n\u001b[1;32m      4\u001b[0m \u001b[0;34m\u001b[0m\u001b[0m\n\u001b[0;32m----> 5\u001b[0;31m \u001b[0maltitude\u001b[0m \u001b[0;34m=\u001b[0m \u001b[0mtrajectory\u001b[0m\u001b[0;34m[\u001b[0m\u001b[0;34m'Altitude (corrected)'\u001b[0m\u001b[0;34m]\u001b[0m\u001b[0;34m.\u001b[0m\u001b[0mvalues\u001b[0m\u001b[0;34m.\u001b[0m\u001b[0mtolist\u001b[0m\u001b[0;34m(\u001b[0m\u001b[0;34m)\u001b[0m\u001b[0;34m\u001b[0m\u001b[0;34m\u001b[0m\u001b[0m\n\u001b[0m\u001b[1;32m      6\u001b[0m \u001b[0mvelocity\u001b[0m \u001b[0;34m=\u001b[0m \u001b[0mtrajectory\u001b[0m\u001b[0;34m[\u001b[0m\u001b[0;34m'Velocity (corrected)'\u001b[0m\u001b[0;34m]\u001b[0m\u001b[0;34m.\u001b[0m\u001b[0mvalues\u001b[0m\u001b[0;34m.\u001b[0m\u001b[0mtolist\u001b[0m\u001b[0;34m(\u001b[0m\u001b[0;34m)\u001b[0m\u001b[0;34m\u001b[0m\u001b[0;34m\u001b[0m\u001b[0m\n\u001b[1;32m      7\u001b[0m \u001b[0;34m\u001b[0m\u001b[0m\n",
            "\u001b[0;32m/usr/local/lib/python3.10/dist-packages/pandas/core/frame.py\u001b[0m in \u001b[0;36m__getitem__\u001b[0;34m(self, key)\u001b[0m\n\u001b[1;32m   3805\u001b[0m             \u001b[0;32mif\u001b[0m \u001b[0mself\u001b[0m\u001b[0;34m.\u001b[0m\u001b[0mcolumns\u001b[0m\u001b[0;34m.\u001b[0m\u001b[0mnlevels\u001b[0m \u001b[0;34m>\u001b[0m \u001b[0;36m1\u001b[0m\u001b[0;34m:\u001b[0m\u001b[0;34m\u001b[0m\u001b[0;34m\u001b[0m\u001b[0m\n\u001b[1;32m   3806\u001b[0m                 \u001b[0;32mreturn\u001b[0m \u001b[0mself\u001b[0m\u001b[0;34m.\u001b[0m\u001b[0m_getitem_multilevel\u001b[0m\u001b[0;34m(\u001b[0m\u001b[0mkey\u001b[0m\u001b[0;34m)\u001b[0m\u001b[0;34m\u001b[0m\u001b[0;34m\u001b[0m\u001b[0m\n\u001b[0;32m-> 3807\u001b[0;31m             \u001b[0mindexer\u001b[0m \u001b[0;34m=\u001b[0m \u001b[0mself\u001b[0m\u001b[0;34m.\u001b[0m\u001b[0mcolumns\u001b[0m\u001b[0;34m.\u001b[0m\u001b[0mget_loc\u001b[0m\u001b[0;34m(\u001b[0m\u001b[0mkey\u001b[0m\u001b[0;34m)\u001b[0m\u001b[0;34m\u001b[0m\u001b[0;34m\u001b[0m\u001b[0m\n\u001b[0m\u001b[1;32m   3808\u001b[0m             \u001b[0;32mif\u001b[0m \u001b[0mis_integer\u001b[0m\u001b[0;34m(\u001b[0m\u001b[0mindexer\u001b[0m\u001b[0;34m)\u001b[0m\u001b[0;34m:\u001b[0m\u001b[0;34m\u001b[0m\u001b[0;34m\u001b[0m\u001b[0m\n\u001b[1;32m   3809\u001b[0m                 \u001b[0mindexer\u001b[0m \u001b[0;34m=\u001b[0m \u001b[0;34m[\u001b[0m\u001b[0mindexer\u001b[0m\u001b[0;34m]\u001b[0m\u001b[0;34m\u001b[0m\u001b[0;34m\u001b[0m\u001b[0m\n",
            "\u001b[0;32m/usr/local/lib/python3.10/dist-packages/pandas/core/indexes/base.py\u001b[0m in \u001b[0;36mget_loc\u001b[0;34m(self, key, method, tolerance)\u001b[0m\n\u001b[1;32m   3802\u001b[0m                 \u001b[0;32mreturn\u001b[0m \u001b[0mself\u001b[0m\u001b[0;34m.\u001b[0m\u001b[0m_engine\u001b[0m\u001b[0;34m.\u001b[0m\u001b[0mget_loc\u001b[0m\u001b[0;34m(\u001b[0m\u001b[0mcasted_key\u001b[0m\u001b[0;34m)\u001b[0m\u001b[0;34m\u001b[0m\u001b[0;34m\u001b[0m\u001b[0m\n\u001b[1;32m   3803\u001b[0m             \u001b[0;32mexcept\u001b[0m \u001b[0mKeyError\u001b[0m \u001b[0;32mas\u001b[0m \u001b[0merr\u001b[0m\u001b[0;34m:\u001b[0m\u001b[0;34m\u001b[0m\u001b[0;34m\u001b[0m\u001b[0m\n\u001b[0;32m-> 3804\u001b[0;31m                 \u001b[0;32mraise\u001b[0m \u001b[0mKeyError\u001b[0m\u001b[0;34m(\u001b[0m\u001b[0mkey\u001b[0m\u001b[0;34m)\u001b[0m \u001b[0;32mfrom\u001b[0m \u001b[0merr\u001b[0m\u001b[0;34m\u001b[0m\u001b[0;34m\u001b[0m\u001b[0m\n\u001b[0m\u001b[1;32m   3805\u001b[0m             \u001b[0;32mexcept\u001b[0m \u001b[0mTypeError\u001b[0m\u001b[0;34m:\u001b[0m\u001b[0;34m\u001b[0m\u001b[0;34m\u001b[0m\u001b[0m\n\u001b[1;32m   3806\u001b[0m                 \u001b[0;31m# If we have a listlike key, _check_indexing_error will raise\u001b[0m\u001b[0;34m\u001b[0m\u001b[0;34m\u001b[0m\u001b[0m\n",
            "\u001b[0;31mKeyError\u001b[0m: 'Altitude (corrected)'"
          ]
        }
      ]
    }
  ],
  "metadata": {
    "colab": {
      "provenance": [],
      "gpuType": "T4",
      "cell_execution_strategy": "setup",
      "include_colab_link": true
    },
    "kernelspec": {
      "display_name": "Python 3",
      "name": "python3"
    },
    "accelerator": "GPU"
  },
  "nbformat": 4,
  "nbformat_minor": 0
}